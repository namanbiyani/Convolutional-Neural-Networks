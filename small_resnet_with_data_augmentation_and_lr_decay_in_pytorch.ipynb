{
  "nbformat": 4,
  "nbformat_minor": 0,
  "metadata": {
    "colab": {
      "name": "small resnet with data augmentation and lr_decay in pytorch.ipynb",
      "version": "0.3.2",
      "provenance": []
    },
    "kernelspec": {
      "name": "python3",
      "display_name": "Python 3"
    },
    "accelerator": "GPU"
  },
  "cells": [
    {
      "metadata": {
        "id": "nUrcnM0BNnTU",
        "colab_type": "code",
        "colab": {}
      },
      "cell_type": "code",
      "source": [
        "import torch\n",
        "import torch.nn as nn\n",
        "import torchvision\n",
        "import torchvision.transforms as transforms\n",
        "import torch.nn.functional as F"
      ],
      "execution_count": 0,
      "outputs": []
    },
    {
      "metadata": {
        "id": "UR7vTPywNwcZ",
        "colab_type": "code",
        "colab": {}
      },
      "cell_type": "code",
      "source": [
        "# Device configuration\n",
        "device = torch.device('cuda' if torch.cuda.is_available() else 'cpu')\n"
      ],
      "execution_count": 0,
      "outputs": []
    },
    {
      "metadata": {
        "id": "B8j3shtYN54a",
        "colab_type": "code",
        "colab": {}
      },
      "cell_type": "code",
      "source": [
        "num_epochs = 100\n",
        "learning_rate=0.001"
      ],
      "execution_count": 0,
      "outputs": []
    },
    {
      "metadata": {
        "id": "qCDHAhgt1Ahu",
        "colab_type": "code",
        "colab": {}
      },
      "cell_type": "code",
      "source": [
        "transform = transforms.Compose([\n",
        "    transforms.Pad(4),\n",
        "    transforms.RandomHorizontalFlip(),\n",
        "    transforms.RandomCrop(32),\n",
        "    transforms.ToTensor()])\n"
      ],
      "execution_count": 0,
      "outputs": []
    },
    {
      "metadata": {
        "id": "VMk3R38oOAR-",
        "colab_type": "code",
        "outputId": "540817aa-ab20-42cf-faca-e202d31bdb17",
        "colab": {
          "base_uri": "https://localhost:8080/",
          "height": 35
        }
      },
      "cell_type": "code",
      "source": [
        "# CIFAR-10 dataset\n",
        "train_dataset = torchvision.datasets.CIFAR10(root='../../data/',\n",
        "                                             train=True, \n",
        "                                             transform=transform,\n",
        "                                             download=True)\n",
        "\n",
        "test_dataset = torchvision.datasets.CIFAR10(root='../../data/',\n",
        "                                            train=False, \n",
        "                                            transform=transforms.ToTensor())"
      ],
      "execution_count": 5,
      "outputs": [
        {
          "output_type": "stream",
          "text": [
            "Downloading https://www.cs.toronto.edu/~kriz/cifar-10-python.tar.gz to ../../data/cifar-10-python.tar.gz\n"
          ],
          "name": "stdout"
        }
      ]
    },
    {
      "metadata": {
        "id": "ek2EVEvXODKS",
        "colab_type": "code",
        "colab": {}
      },
      "cell_type": "code",
      "source": [
        "# Data loader\n",
        "train_loader = torch.utils.data.DataLoader(dataset=train_dataset,\n",
        "                                           batch_size=100, \n",
        "                                           shuffle=True)\n",
        "\n",
        "test_loader = torch.utils.data.DataLoader(dataset=test_dataset,\n",
        "                                          batch_size=100, \n",
        "                                          shuffle=False)"
      ],
      "execution_count": 0,
      "outputs": []
    },
    {
      "metadata": {
        "id": "FSCw-vGEOFzu",
        "colab_type": "code",
        "colab": {}
      },
      "cell_type": "code",
      "source": [
        "# 3x3 convolution\n",
        "def conv3x3(in_channels, out_channels, stride=1):\n",
        "    return nn.Conv2d(in_channels, out_channels, kernel_size=3, \n",
        "                     stride=stride, padding=1, bias=False)"
      ],
      "execution_count": 0,
      "outputs": []
    },
    {
      "metadata": {
        "id": "wkowg8FVOMhS",
        "colab_type": "code",
        "colab": {}
      },
      "cell_type": "code",
      "source": [
        "# 5x5 convolution\n",
        "def conv5x5(in_channels, out_channels, stride=1):\n",
        "    return nn.Conv2d(in_channels, out_channels, kernel_size=5, \n",
        "                     stride=stride, padding=2, bias=False)"
      ],
      "execution_count": 0,
      "outputs": []
    },
    {
      "metadata": {
        "id": "w-SPcY0MOOxQ",
        "colab_type": "code",
        "colab": {}
      },
      "cell_type": "code",
      "source": [
        "# 7x7 convolution\n",
        "def conv7x7(in_channels, out_channels, stride=1):\n",
        "    return nn.Conv2d(in_channels, out_channels, kernel_size=7, \n",
        "                     stride=stride, padding=3, bias=False)"
      ],
      "execution_count": 0,
      "outputs": []
    },
    {
      "metadata": {
        "id": "w2ygZBHdOQyh",
        "colab_type": "code",
        "colab": {}
      },
      "cell_type": "code",
      "source": [
        "# 1x1 convolution\n",
        "def conv1x1(in_channels, out_channels, stride=1):\n",
        "    return nn.Conv2d(in_channels, out_channels, kernel_size=1, \n",
        "                     stride=stride, padding=0, bias=False)"
      ],
      "execution_count": 0,
      "outputs": []
    },
    {
      "metadata": {
        "id": "tqDQsPr-OTlX",
        "colab_type": "code",
        "colab": {}
      },
      "cell_type": "code",
      "source": [
        "class IdentityBlock(nn.Module):\n",
        "    expansion = 1\n",
        "\n",
        "    def __init__(self, in_planes, planes, stride=1):\n",
        "        super(IdentityBlock, self).__init__()\n",
        "        self.conv1 = nn.Conv2d(in_planes, planes, kernel_size=3, stride=stride, padding=1, bias=False)\n",
        "        self.bn1 = nn.BatchNorm2d(planes)\n",
        "        self.conv2 = nn.Conv2d(planes, planes, kernel_size=3, stride=1, padding=1, bias=False)\n",
        "        self.bn2 = nn.BatchNorm2d(planes)\n",
        "\n",
        "        self.shortcut = nn.Sequential()\n",
        "        if stride != 1 or in_planes != self.expansion*planes:\n",
        "            self.shortcut = nn.Sequential(\n",
        "                nn.Conv2d(in_planes, self.expansion*planes, kernel_size=1, stride=stride, bias=False),\n",
        "                nn.BatchNorm2d(self.expansion*planes)\n",
        "            )\n",
        "\n",
        "    def forward(self, x):\n",
        "        out = F.elu(self.bn1(self.conv1(x)))\n",
        "        out = self.bn2(self.conv2(out))\n",
        "        out += self.shortcut(x)\n",
        "        out = F.elu(out)\n",
        "        return out"
      ],
      "execution_count": 0,
      "outputs": []
    },
    {
      "metadata": {
        "id": "y3uFZAC8RKTG",
        "colab_type": "code",
        "colab": {}
      },
      "cell_type": "code",
      "source": [
        "\n",
        "class ResNet(nn.Module):\n",
        "    def __init__(self, block, num_blocks, num_classes=10):\n",
        "        super(ResNet, self).__init__()\n",
        "        self.in_planes = 64\n",
        "\n",
        "        self.conv1 = conv3x3(3, 64)\n",
        "        self.bn1 = nn.BatchNorm2d(64)\n",
        "        self.layer1 = self._make_layer(block, 64, num_blocks[0], stride=1)\n",
        "        self.layer2 = self._make_layer(block, 128, num_blocks[1], stride=2)\n",
        "        self.conv2 = conv5x5(128,128)\n",
        "        self.bn2 = nn.BatchNorm2d(128)\n",
        "        self.layer3 = self._make_layer(block, 256, num_blocks[2], stride=2)\n",
        "        self.layer4 = self._make_layer(block, 512, num_blocks[3], stride=2)\n",
        "        self.linear = nn.Linear(512*block.expansion, num_classes)\n",
        "        self.conv3 = conv3x3(512,512)\n",
        "        self.bn3 = nn.BatchNorm2d(512)\n",
        "#         self.fc1 = nn.Linear(,64)\n",
        "#         self.fc2 = nn.Linear(64, num_classes)\n",
        "\n",
        "    def _make_layer(self, block, planes, num_blocks, stride):\n",
        "        strides = [stride] + [1]*(num_blocks-1)\n",
        "        layers = []\n",
        "        for stride in strides:\n",
        "            layers.append(block(self.in_planes, planes, stride))\n",
        "            self.in_planes = planes * block.expansion\n",
        "        return nn.Sequential(*layers)\n",
        "\n",
        "    def forward(self, x):\n",
        "        out = F.relu(self.bn1(self.conv1(x)))\n",
        "        out = self.layer1(out)\n",
        "        out = self.layer2(out)\n",
        "        out = F.elu(self.bn2(self.conv2(out)))\n",
        "        out = self.layer3(out)\n",
        "        out = self.layer4(out)\n",
        "        out = F.avg_pool2d(out, 4)\n",
        "        out = F.relu(self.bn3(self.conv3(out)))\n",
        "        out = out.view(out.size(0), -1)\n",
        "        out = self.linear(out)\n",
        "#         out = self.fc2(64,10)\n",
        "        return out\n"
      ],
      "execution_count": 0,
      "outputs": []
    },
    {
      "metadata": {
        "id": "gSEJlb2QTLJT",
        "colab_type": "code",
        "colab": {}
      },
      "cell_type": "code",
      "source": [
        "model=ResNet(IdentityBlock, [2,2,2,2]).to(device)"
      ],
      "execution_count": 0,
      "outputs": []
    },
    {
      "metadata": {
        "id": "jEaDGQPQUSHV",
        "colab_type": "code",
        "colab": {}
      },
      "cell_type": "code",
      "source": [
        "# Loss and optimizer\n",
        "criterion = nn.CrossEntropyLoss()\n",
        "optimizer = torch.optim.Adam(model.parameters(), lr=learning_rate)"
      ],
      "execution_count": 0,
      "outputs": []
    },
    {
      "metadata": {
        "id": "wTRCS44DUSxe",
        "colab_type": "code",
        "colab": {}
      },
      "cell_type": "code",
      "source": [
        "# For updating learning rate\n",
        "def update_lr(optimizer, lr):    \n",
        "    for param_group in optimizer.param_groups:\n",
        "        param_group['lr'] = lr"
      ],
      "execution_count": 0,
      "outputs": []
    },
    {
      "metadata": {
        "id": "O9vtwqjtUVOb",
        "colab_type": "code",
        "colab": {}
      },
      "cell_type": "code",
      "source": [
        "\n",
        "# Train the model\n",
        "total_step = len(train_loader)\n",
        "curr_lr = learning_rate"
      ],
      "execution_count": 0,
      "outputs": []
    },
    {
      "metadata": {
        "id": "v0nHwgci6tlA",
        "colab_type": "code",
        "colab": {
          "base_uri": "https://localhost:8080/",
          "height": 35
        },
        "outputId": "68411c92-7450-46f3-ecef-7f171664fd3f"
      },
      "cell_type": "code",
      "source": [
        "total_step"
      ],
      "execution_count": 17,
      "outputs": [
        {
          "output_type": "execute_result",
          "data": {
            "text/plain": [
              "500"
            ]
          },
          "metadata": {
            "tags": []
          },
          "execution_count": 17
        }
      ]
    },
    {
      "metadata": {
        "id": "CeYrhoWwUnrp",
        "colab_type": "code",
        "outputId": "b43106c4-0ead-475c-ad9d-64a7d888b682",
        "colab": {
          "base_uri": "https://localhost:8080/",
          "height": 1667
        }
      },
      "cell_type": "code",
      "source": [
        "epoch_accuracy=0\n",
        "for epoch in range(15):\n",
        "    for i, (images, labels) in enumerate(train_loader):\n",
        "        total=0\n",
        "        correct=0\n",
        "        images = images.to(device)\n",
        "        labels = labels.to(device)\n",
        "        \n",
        "        # Forward pass\n",
        "        outputs = model(images)\n",
        "        loss = criterion(outputs, labels)\n",
        "        \n",
        "        #calculating accuracy\n",
        "        _, predicted = torch.max(outputs.data, 1)\n",
        "        total += labels.size(0)\n",
        "        correct += (predicted == labels).sum().item()\n",
        "        \n",
        "        # Backward and optimize\n",
        "        optimizer.zero_grad()\n",
        "        loss.backward()\n",
        "        optimizer.step()\n",
        "        \n",
        "        if (i+1) % 100 == 0:\n",
        "            print (\"Epoch [{}/{}], Step [{}/{}] Loss: {:.4f} Accuracy: {}%\"\n",
        "                   .format(epoch+1, num_epochs, i+1, total_step, loss.item(),(100 * correct / total)))\n",
        "        \n",
        "        epoch_accuracy+=correct / total\n",
        "\n",
        "    # Decay learning rate\n",
        "    if (epoch+1) % 20 == 0:\n",
        "        curr_lr /= 3\n",
        "        update_lr(optimizer, curr_lr)\n",
        "    print(\"Accuracy in the epoch = {}%\".format(epoch_accuracy/5))\n",
        "    epoch_accuracy=0\n",
        "\n",
        "# Test the model"
      ],
      "execution_count": 18,
      "outputs": [
        {
          "output_type": "stream",
          "text": [
            "Epoch [1/100], Step [100/500] Loss: 1.9303 Accuracy: 28.0%\n",
            "Epoch [1/100], Step [200/500] Loss: 1.8685 Accuracy: 28.0%\n",
            "Epoch [1/100], Step [300/500] Loss: 1.5056 Accuracy: 40.0%\n",
            "Epoch [1/100], Step [400/500] Loss: 1.5325 Accuracy: 47.0%\n",
            "Epoch [1/100], Step [500/500] Loss: 1.4958 Accuracy: 44.0%\n",
            "Accuracy in the epoch = 38.601999999999975%\n",
            "Epoch [2/100], Step [100/500] Loss: 1.3403 Accuracy: 44.0%\n",
            "Epoch [2/100], Step [200/500] Loss: 1.1953 Accuracy: 49.0%\n",
            "Epoch [2/100], Step [300/500] Loss: 1.1968 Accuracy: 60.0%\n",
            "Epoch [2/100], Step [400/500] Loss: 1.3437 Accuracy: 51.0%\n",
            "Epoch [2/100], Step [500/500] Loss: 1.1948 Accuracy: 54.0%\n",
            "Accuracy in the epoch = 52.974000000000025%\n",
            "Epoch [3/100], Step [100/500] Loss: 1.1761 Accuracy: 59.0%\n",
            "Epoch [3/100], Step [200/500] Loss: 1.0781 Accuracy: 64.0%\n",
            "Epoch [3/100], Step [300/500] Loss: 1.1500 Accuracy: 59.0%\n",
            "Epoch [3/100], Step [400/500] Loss: 1.1256 Accuracy: 56.0%\n",
            "Epoch [3/100], Step [500/500] Loss: 1.1499 Accuracy: 64.0%\n",
            "Accuracy in the epoch = 59.839999999999996%\n",
            "Epoch [4/100], Step [100/500] Loss: 1.1881 Accuracy: 56.0%\n",
            "Epoch [4/100], Step [200/500] Loss: 1.1334 Accuracy: 64.0%\n",
            "Epoch [4/100], Step [300/500] Loss: 0.9781 Accuracy: 65.0%\n",
            "Epoch [4/100], Step [400/500] Loss: 0.9066 Accuracy: 68.0%\n",
            "Epoch [4/100], Step [500/500] Loss: 0.9708 Accuracy: 65.0%\n",
            "Accuracy in the epoch = 64.76199999999999%\n",
            "Epoch [5/100], Step [100/500] Loss: 1.0437 Accuracy: 65.0%\n",
            "Epoch [5/100], Step [200/500] Loss: 0.7000 Accuracy: 75.0%\n",
            "Epoch [5/100], Step [300/500] Loss: 0.8947 Accuracy: 66.0%\n",
            "Epoch [5/100], Step [400/500] Loss: 0.7327 Accuracy: 77.0%\n",
            "Epoch [5/100], Step [500/500] Loss: 0.8775 Accuracy: 69.0%\n",
            "Accuracy in the epoch = 68.32399999999993%\n",
            "Epoch [6/100], Step [100/500] Loss: 0.7014 Accuracy: 77.0%\n",
            "Epoch [6/100], Step [200/500] Loss: 0.9443 Accuracy: 67.0%\n",
            "Epoch [6/100], Step [300/500] Loss: 0.9134 Accuracy: 73.0%\n",
            "Epoch [6/100], Step [400/500] Loss: 0.6760 Accuracy: 80.0%\n",
            "Epoch [6/100], Step [500/500] Loss: 0.9160 Accuracy: 72.0%\n",
            "Accuracy in the epoch = 70.90999999999998%\n",
            "Epoch [7/100], Step [100/500] Loss: 0.8650 Accuracy: 71.0%\n",
            "Epoch [7/100], Step [200/500] Loss: 0.6112 Accuracy: 72.0%\n",
            "Epoch [7/100], Step [300/500] Loss: 0.7202 Accuracy: 73.0%\n",
            "Epoch [7/100], Step [400/500] Loss: 0.6255 Accuracy: 73.0%\n",
            "Epoch [7/100], Step [500/500] Loss: 0.6870 Accuracy: 77.0%\n",
            "Accuracy in the epoch = 73.94400000000003%\n",
            "Epoch [8/100], Step [100/500] Loss: 0.7262 Accuracy: 71.0%\n",
            "Epoch [8/100], Step [200/500] Loss: 0.5995 Accuracy: 79.0%\n",
            "Epoch [8/100], Step [300/500] Loss: 0.6683 Accuracy: 82.0%\n",
            "Epoch [8/100], Step [400/500] Loss: 0.6848 Accuracy: 72.0%\n",
            "Epoch [8/100], Step [500/500] Loss: 0.5096 Accuracy: 86.0%\n",
            "Accuracy in the epoch = 76.36400000000006%\n",
            "Epoch [9/100], Step [100/500] Loss: 0.6469 Accuracy: 77.0%\n",
            "Epoch [9/100], Step [200/500] Loss: 0.6038 Accuracy: 80.0%\n",
            "Epoch [9/100], Step [300/500] Loss: 0.7708 Accuracy: 71.0%\n",
            "Epoch [9/100], Step [400/500] Loss: 0.7459 Accuracy: 75.0%\n",
            "Epoch [9/100], Step [500/500] Loss: 0.6463 Accuracy: 77.0%\n",
            "Accuracy in the epoch = 78.27400000000002%\n",
            "Epoch [10/100], Step [100/500] Loss: 0.7121 Accuracy: 76.0%\n",
            "Epoch [10/100], Step [200/500] Loss: 0.4623 Accuracy: 78.0%\n",
            "Epoch [10/100], Step [300/500] Loss: 0.5881 Accuracy: 79.0%\n",
            "Epoch [10/100], Step [400/500] Loss: 0.5755 Accuracy: 77.0%\n",
            "Epoch [10/100], Step [500/500] Loss: 0.5454 Accuracy: 80.0%\n",
            "Accuracy in the epoch = 79.63599999999995%\n",
            "Epoch [11/100], Step [100/500] Loss: 0.6251 Accuracy: 74.0%\n",
            "Epoch [11/100], Step [200/500] Loss: 0.4744 Accuracy: 82.0%\n",
            "Epoch [11/100], Step [300/500] Loss: 0.5228 Accuracy: 79.0%\n",
            "Epoch [11/100], Step [400/500] Loss: 0.6237 Accuracy: 78.0%\n",
            "Epoch [11/100], Step [500/500] Loss: 0.6141 Accuracy: 81.0%\n",
            "Accuracy in the epoch = 81.05399999999999%\n",
            "Epoch [12/100], Step [100/500] Loss: 0.4604 Accuracy: 84.0%\n",
            "Epoch [12/100], Step [200/500] Loss: 0.4622 Accuracy: 85.0%\n",
            "Epoch [12/100], Step [300/500] Loss: 0.4681 Accuracy: 85.0%\n",
            "Epoch [12/100], Step [400/500] Loss: 0.4695 Accuracy: 86.0%\n",
            "Epoch [12/100], Step [500/500] Loss: 0.3980 Accuracy: 81.0%\n",
            "Accuracy in the epoch = 82.16199999999998%\n",
            "Epoch [13/100], Step [100/500] Loss: 0.5207 Accuracy: 84.0%\n",
            "Epoch [13/100], Step [200/500] Loss: 0.5518 Accuracy: 83.0%\n",
            "Epoch [13/100], Step [300/500] Loss: 0.5849 Accuracy: 77.0%\n",
            "Epoch [13/100], Step [400/500] Loss: 0.5207 Accuracy: 80.0%\n",
            "Epoch [13/100], Step [500/500] Loss: 0.5681 Accuracy: 82.0%\n",
            "Accuracy in the epoch = 83.16%\n",
            "Epoch [14/100], Step [100/500] Loss: 0.4125 Accuracy: 88.0%\n",
            "Epoch [14/100], Step [200/500] Loss: 0.3634 Accuracy: 83.0%\n",
            "Epoch [14/100], Step [300/500] Loss: 0.4614 Accuracy: 83.0%\n",
            "Epoch [14/100], Step [400/500] Loss: 0.4796 Accuracy: 84.0%\n",
            "Epoch [14/100], Step [500/500] Loss: 0.5025 Accuracy: 86.0%\n",
            "Accuracy in the epoch = 84.24800000000002%\n",
            "Epoch [15/100], Step [100/500] Loss: 0.3998 Accuracy: 85.0%\n",
            "Epoch [15/100], Step [200/500] Loss: 0.2693 Accuracy: 91.0%\n",
            "Epoch [15/100], Step [300/500] Loss: 0.2993 Accuracy: 89.0%\n",
            "Epoch [15/100], Step [400/500] Loss: 0.3487 Accuracy: 88.0%\n",
            "Epoch [15/100], Step [500/500] Loss: 0.4265 Accuracy: 87.0%\n",
            "Accuracy in the epoch = 84.684%\n"
          ],
          "name": "stdout"
        }
      ]
    },
    {
      "metadata": {
        "id": "5KEyQ9N4meYT",
        "colab_type": "code",
        "colab": {
          "base_uri": "https://localhost:8080/",
          "height": 35
        },
        "outputId": "5e7edfe4-2bd7-40df-f9c2-777acf068e29"
      },
      "cell_type": "code",
      "source": [
        "with torch.no_grad():\n",
        "    correct = 0\n",
        "    total = 0\n",
        "    for images, labels in test_loader:\n",
        "        images = images.to(device)\n",
        "        labels = labels.to(device)\n",
        "        outputs = model(images)\n",
        "        _, predicted = torch.max(outputs.data, 1)\n",
        "        total += labels.size(0)\n",
        "        correct += (predicted == labels).sum().item()\n",
        "\n",
        "    print('Accuracy of the model on the test images: {} %'.format(100 * correct / total))\n"
      ],
      "execution_count": 19,
      "outputs": [
        {
          "output_type": "stream",
          "text": [
            "Accuracy of the model on the test images: 81.96 %\n"
          ],
          "name": "stdout"
        }
      ]
    },
    {
      "metadata": {
        "id": "Xn5YJrg0Vcf9",
        "colab_type": "code",
        "colab": {
          "base_uri": "https://localhost:8080/",
          "height": 1667
        },
        "outputId": "f1e31cb5-cf4b-4100-c20a-864ddc3c82a9"
      },
      "cell_type": "code",
      "source": [
        "epoch_accuracy=0\n",
        "for epoch in range(16,31):\n",
        "    for i, (images, labels) in enumerate(train_loader):\n",
        "        total=0\n",
        "        correct=0\n",
        "        images = images.to(device)\n",
        "        labels = labels.to(device)\n",
        "        \n",
        "        # Forward pass\n",
        "        outputs = model(images)\n",
        "        loss = criterion(outputs, labels)\n",
        "        \n",
        "        #calculating accuracy\n",
        "        _, predicted = torch.max(outputs.data, 1)\n",
        "        total += labels.size(0)\n",
        "        correct += (predicted == labels).sum().item()\n",
        "        \n",
        "        # Backward and optimize\n",
        "        optimizer.zero_grad()\n",
        "        loss.backward()\n",
        "        optimizer.step()\n",
        "        \n",
        "        if (i+1) % 100 == 0:\n",
        "            print (\"Epoch [{}/{}], Step [{}/{}] Loss: {:.4f} Accuracy: {}%\"\n",
        "                   .format(epoch+1, num_epochs, i+1, total_step, loss.item(),(100 * correct / total)))\n",
        "        \n",
        "        epoch_accuracy+=correct / total\n",
        "\n",
        "    # Decay learning rate\n",
        "    if (epoch+1) % 20 == 0:\n",
        "        curr_lr /= 3\n",
        "        update_lr(optimizer, curr_lr)\n",
        "    print(\"Accuracy in the epoch = {}%\".format(epoch_accuracy/5))\n",
        "    epoch_accuracy=0\n",
        "\n",
        "# Test the model"
      ],
      "execution_count": 21,
      "outputs": [
        {
          "output_type": "stream",
          "text": [
            "Epoch [17/100], Step [100/500] Loss: 0.4272 Accuracy: 85.0%\n",
            "Epoch [17/100], Step [200/500] Loss: 0.3930 Accuracy: 88.0%\n",
            "Epoch [17/100], Step [300/500] Loss: 0.2811 Accuracy: 90.0%\n",
            "Epoch [17/100], Step [400/500] Loss: 0.2562 Accuracy: 90.0%\n",
            "Epoch [17/100], Step [500/500] Loss: 0.4963 Accuracy: 82.0%\n",
            "Accuracy in the epoch = 86.33199999999992%\n",
            "Epoch [18/100], Step [100/500] Loss: 0.3650 Accuracy: 88.0%\n",
            "Epoch [18/100], Step [200/500] Loss: 0.3765 Accuracy: 88.0%\n",
            "Epoch [18/100], Step [300/500] Loss: 0.4220 Accuracy: 84.0%\n",
            "Epoch [18/100], Step [400/500] Loss: 0.2821 Accuracy: 89.0%\n",
            "Epoch [18/100], Step [500/500] Loss: 0.3259 Accuracy: 93.0%\n",
            "Accuracy in the epoch = 87.064%\n",
            "Epoch [19/100], Step [100/500] Loss: 0.2751 Accuracy: 86.0%\n",
            "Epoch [19/100], Step [200/500] Loss: 0.2332 Accuracy: 91.0%\n",
            "Epoch [19/100], Step [300/500] Loss: 0.5069 Accuracy: 85.0%\n",
            "Epoch [19/100], Step [400/500] Loss: 0.3902 Accuracy: 85.0%\n",
            "Epoch [19/100], Step [500/500] Loss: 0.4926 Accuracy: 82.0%\n",
            "Accuracy in the epoch = 87.52799999999992%\n",
            "Epoch [20/100], Step [100/500] Loss: 0.3255 Accuracy: 90.0%\n",
            "Epoch [20/100], Step [200/500] Loss: 0.3136 Accuracy: 85.0%\n",
            "Epoch [20/100], Step [300/500] Loss: 0.3283 Accuracy: 88.0%\n",
            "Epoch [20/100], Step [400/500] Loss: 0.3601 Accuracy: 87.0%\n",
            "Epoch [20/100], Step [500/500] Loss: 0.3421 Accuracy: 88.0%\n",
            "Accuracy in the epoch = 88.18599999999998%\n",
            "Epoch [21/100], Step [100/500] Loss: 0.3121 Accuracy: 87.0%\n",
            "Epoch [21/100], Step [200/500] Loss: 0.2148 Accuracy: 93.0%\n",
            "Epoch [21/100], Step [300/500] Loss: 0.3077 Accuracy: 90.0%\n",
            "Epoch [21/100], Step [400/500] Loss: 0.4411 Accuracy: 86.0%\n",
            "Epoch [21/100], Step [500/500] Loss: 0.1693 Accuracy: 93.0%\n",
            "Accuracy in the epoch = 91.05599999999997%\n",
            "Epoch [22/100], Step [100/500] Loss: 0.2829 Accuracy: 91.0%\n",
            "Epoch [22/100], Step [200/500] Loss: 0.4425 Accuracy: 84.0%\n",
            "Epoch [22/100], Step [300/500] Loss: 0.2148 Accuracy: 93.0%\n",
            "Epoch [22/100], Step [400/500] Loss: 0.2396 Accuracy: 92.0%\n",
            "Epoch [22/100], Step [500/500] Loss: 0.2097 Accuracy: 92.0%\n",
            "Accuracy in the epoch = 91.63599999999998%\n",
            "Epoch [23/100], Step [100/500] Loss: 0.1572 Accuracy: 95.0%\n",
            "Epoch [23/100], Step [200/500] Loss: 0.2352 Accuracy: 91.0%\n",
            "Epoch [23/100], Step [300/500] Loss: 0.2275 Accuracy: 93.0%\n",
            "Epoch [23/100], Step [400/500] Loss: 0.2311 Accuracy: 95.0%\n",
            "Epoch [23/100], Step [500/500] Loss: 0.2629 Accuracy: 92.0%\n",
            "Accuracy in the epoch = 92.05799999999996%\n",
            "Epoch [24/100], Step [100/500] Loss: 0.2727 Accuracy: 91.0%\n",
            "Epoch [24/100], Step [200/500] Loss: 0.1729 Accuracy: 96.0%\n",
            "Epoch [24/100], Step [300/500] Loss: 0.2399 Accuracy: 92.0%\n",
            "Epoch [24/100], Step [400/500] Loss: 0.2193 Accuracy: 93.0%\n",
            "Epoch [24/100], Step [500/500] Loss: 0.2395 Accuracy: 92.0%\n",
            "Accuracy in the epoch = 92.41600000000005%\n",
            "Epoch [25/100], Step [100/500] Loss: 0.2142 Accuracy: 94.0%\n",
            "Epoch [25/100], Step [200/500] Loss: 0.1034 Accuracy: 97.0%\n",
            "Epoch [25/100], Step [300/500] Loss: 0.2584 Accuracy: 89.0%\n",
            "Epoch [25/100], Step [400/500] Loss: 0.2576 Accuracy: 91.0%\n",
            "Epoch [25/100], Step [500/500] Loss: 0.2321 Accuracy: 92.0%\n",
            "Accuracy in the epoch = 92.58999999999999%\n",
            "Epoch [26/100], Step [100/500] Loss: 0.1880 Accuracy: 95.0%\n",
            "Epoch [26/100], Step [200/500] Loss: 0.2435 Accuracy: 92.0%\n",
            "Epoch [26/100], Step [300/500] Loss: 0.2154 Accuracy: 92.0%\n",
            "Epoch [26/100], Step [400/500] Loss: 0.2109 Accuracy: 90.0%\n",
            "Epoch [26/100], Step [500/500] Loss: 0.1753 Accuracy: 97.0%\n",
            "Accuracy in the epoch = 92.83000000000001%\n",
            "Epoch [27/100], Step [100/500] Loss: 0.1585 Accuracy: 94.0%\n",
            "Epoch [27/100], Step [200/500] Loss: 0.1868 Accuracy: 90.0%\n",
            "Epoch [27/100], Step [300/500] Loss: 0.2265 Accuracy: 93.0%\n",
            "Epoch [27/100], Step [400/500] Loss: 0.1086 Accuracy: 96.0%\n",
            "Epoch [27/100], Step [500/500] Loss: 0.1125 Accuracy: 96.0%\n",
            "Accuracy in the epoch = 93.24200000000005%\n",
            "Epoch [28/100], Step [100/500] Loss: 0.1175 Accuracy: 96.0%\n",
            "Epoch [28/100], Step [200/500] Loss: 0.2251 Accuracy: 93.0%\n",
            "Epoch [28/100], Step [300/500] Loss: 0.2160 Accuracy: 91.0%\n",
            "Epoch [28/100], Step [400/500] Loss: 0.2960 Accuracy: 89.0%\n",
            "Epoch [28/100], Step [500/500] Loss: 0.1340 Accuracy: 95.0%\n",
            "Accuracy in the epoch = 93.39599999999994%\n",
            "Epoch [29/100], Step [100/500] Loss: 0.1492 Accuracy: 94.0%\n",
            "Epoch [29/100], Step [200/500] Loss: 0.1881 Accuracy: 95.0%\n",
            "Epoch [29/100], Step [300/500] Loss: 0.1277 Accuracy: 96.0%\n",
            "Epoch [29/100], Step [400/500] Loss: 0.3199 Accuracy: 89.0%\n",
            "Epoch [29/100], Step [500/500] Loss: 0.1246 Accuracy: 94.0%\n",
            "Accuracy in the epoch = 93.662%\n",
            "Epoch [30/100], Step [100/500] Loss: 0.2581 Accuracy: 93.0%\n",
            "Epoch [30/100], Step [200/500] Loss: 0.1141 Accuracy: 95.0%\n",
            "Epoch [30/100], Step [300/500] Loss: 0.2041 Accuracy: 91.0%\n",
            "Epoch [30/100], Step [400/500] Loss: 0.1914 Accuracy: 92.0%\n",
            "Epoch [30/100], Step [500/500] Loss: 0.1301 Accuracy: 96.0%\n",
            "Accuracy in the epoch = 94.0160000000001%\n",
            "Epoch [31/100], Step [100/500] Loss: 0.1338 Accuracy: 95.0%\n",
            "Epoch [31/100], Step [200/500] Loss: 0.1892 Accuracy: 91.0%\n",
            "Epoch [31/100], Step [300/500] Loss: 0.1204 Accuracy: 97.0%\n",
            "Epoch [31/100], Step [400/500] Loss: 0.1762 Accuracy: 93.0%\n",
            "Epoch [31/100], Step [500/500] Loss: 0.0751 Accuracy: 99.0%\n",
            "Accuracy in the epoch = 94.05000000000001%\n"
          ],
          "name": "stdout"
        }
      ]
    },
    {
      "metadata": {
        "id": "Ew9R4mFQmi-S",
        "colab_type": "code",
        "colab": {
          "base_uri": "https://localhost:8080/",
          "height": 35
        },
        "outputId": "d5d655de-469b-406e-bbef-93ef6451bee1"
      },
      "cell_type": "code",
      "source": [
        "with torch.no_grad():\n",
        "    correct = 0\n",
        "    total = 0\n",
        "    for images, labels in test_loader:\n",
        "        images = images.to(device)\n",
        "        labels = labels.to(device)\n",
        "        outputs = model(images)\n",
        "        _, predicted = torch.max(outputs.data, 1)\n",
        "        total += labels.size(0)\n",
        "        correct += (predicted == labels).sum().item()\n",
        "\n",
        "    print('Accuracy of the model on the test images: {} %'.format(100 * correct / total))\n"
      ],
      "execution_count": 22,
      "outputs": [
        {
          "output_type": "stream",
          "text": [
            "Accuracy of the model on the test images: 88.39 %\n"
          ],
          "name": "stdout"
        }
      ]
    },
    {
      "metadata": {
        "id": "dxJ8xfzvVncg",
        "colab_type": "code",
        "colab": {
          "base_uri": "https://localhost:8080/",
          "height": 2107
        },
        "outputId": "71e20051-7be3-49d3-896e-f2fd87150e77"
      },
      "cell_type": "code",
      "source": [
        "epoch_accuracy=0\n",
        "for epoch in range(31,50):\n",
        "    for i, (images, labels) in enumerate(train_loader):\n",
        "        total=0\n",
        "        correct=0\n",
        "        images = images.to(device)\n",
        "        labels = labels.to(device)\n",
        "        \n",
        "        # Forward pass\n",
        "        outputs = model(images)\n",
        "        loss = criterion(outputs, labels)\n",
        "        \n",
        "        #calculating accuracy\n",
        "        _, predicted = torch.max(outputs.data, 1)\n",
        "        total += labels.size(0)\n",
        "        correct += (predicted == labels).sum().item()\n",
        "        \n",
        "        # Backward and optimize\n",
        "        optimizer.zero_grad()\n",
        "        loss.backward()\n",
        "        optimizer.step()\n",
        "        \n",
        "        if (i+1) % 100 == 0:\n",
        "            print (\"Epoch [{}/{}], Step [{}/{}] Loss: {:.4f} Accuracy: {}%\"\n",
        "                   .format(epoch+1, num_epochs, i+1, total_step, loss.item(),(100 * correct / total)))\n",
        "        \n",
        "        epoch_accuracy+=correct / total\n",
        "\n",
        "    # Decay learning rate\n",
        "    if (epoch+1) % 20 == 0:\n",
        "        curr_lr /= 2\n",
        "        update_lr(optimizer, curr_lr)\n",
        "    print(\"Accuracy in the epoch = {}%\".format(epoch_accuracy/5))\n",
        "    epoch_accuracy=0\n",
        "\n",
        "# Test the model"
      ],
      "execution_count": 23,
      "outputs": [
        {
          "output_type": "stream",
          "text": [
            "Epoch [32/100], Step [100/500] Loss: 0.0936 Accuracy: 98.0%\n",
            "Epoch [32/100], Step [200/500] Loss: 0.1730 Accuracy: 93.0%\n",
            "Epoch [32/100], Step [300/500] Loss: 0.1404 Accuracy: 95.0%\n",
            "Epoch [32/100], Step [400/500] Loss: 0.2533 Accuracy: 89.0%\n",
            "Epoch [32/100], Step [500/500] Loss: 0.1543 Accuracy: 95.0%\n",
            "Accuracy in the epoch = 94.168%\n",
            "Epoch [33/100], Step [100/500] Loss: 0.0738 Accuracy: 98.0%\n",
            "Epoch [33/100], Step [200/500] Loss: 0.2959 Accuracy: 90.0%\n",
            "Epoch [33/100], Step [300/500] Loss: 0.1771 Accuracy: 94.0%\n",
            "Epoch [33/100], Step [400/500] Loss: 0.2879 Accuracy: 93.0%\n",
            "Epoch [33/100], Step [500/500] Loss: 0.1436 Accuracy: 97.0%\n",
            "Accuracy in the epoch = 94.42199999999994%\n",
            "Epoch [34/100], Step [100/500] Loss: 0.1400 Accuracy: 96.0%\n",
            "Epoch [34/100], Step [200/500] Loss: 0.1586 Accuracy: 93.0%\n",
            "Epoch [34/100], Step [300/500] Loss: 0.1987 Accuracy: 90.0%\n",
            "Epoch [34/100], Step [400/500] Loss: 0.1274 Accuracy: 94.0%\n",
            "Epoch [34/100], Step [500/500] Loss: 0.1287 Accuracy: 96.0%\n",
            "Accuracy in the epoch = 94.66400000000004%\n",
            "Epoch [35/100], Step [100/500] Loss: 0.1344 Accuracy: 96.0%\n",
            "Epoch [35/100], Step [200/500] Loss: 0.1600 Accuracy: 94.0%\n",
            "Epoch [35/100], Step [300/500] Loss: 0.1319 Accuracy: 95.0%\n",
            "Epoch [35/100], Step [400/500] Loss: 0.1917 Accuracy: 90.0%\n",
            "Epoch [35/100], Step [500/500] Loss: 0.1824 Accuracy: 95.0%\n",
            "Accuracy in the epoch = 94.92400000000004%\n",
            "Epoch [36/100], Step [100/500] Loss: 0.1045 Accuracy: 96.0%\n",
            "Epoch [36/100], Step [200/500] Loss: 0.1541 Accuracy: 94.0%\n",
            "Epoch [36/100], Step [300/500] Loss: 0.1556 Accuracy: 97.0%\n",
            "Epoch [36/100], Step [400/500] Loss: 0.1453 Accuracy: 93.0%\n",
            "Epoch [36/100], Step [500/500] Loss: 0.1395 Accuracy: 94.0%\n",
            "Accuracy in the epoch = 95.042%\n",
            "Epoch [37/100], Step [100/500] Loss: 0.1549 Accuracy: 95.0%\n",
            "Epoch [37/100], Step [200/500] Loss: 0.2642 Accuracy: 93.0%\n",
            "Epoch [37/100], Step [300/500] Loss: 0.0687 Accuracy: 98.0%\n",
            "Epoch [37/100], Step [400/500] Loss: 0.0741 Accuracy: 98.0%\n",
            "Epoch [37/100], Step [500/500] Loss: 0.2231 Accuracy: 92.0%\n",
            "Accuracy in the epoch = 95.05600000000013%\n",
            "Epoch [38/100], Step [100/500] Loss: 0.1035 Accuracy: 95.0%\n",
            "Epoch [38/100], Step [200/500] Loss: 0.1003 Accuracy: 97.0%\n",
            "Epoch [38/100], Step [300/500] Loss: 0.0976 Accuracy: 96.0%\n",
            "Epoch [38/100], Step [400/500] Loss: 0.2123 Accuracy: 94.0%\n",
            "Epoch [38/100], Step [500/500] Loss: 0.1034 Accuracy: 97.0%\n",
            "Accuracy in the epoch = 95.47600000000008%\n",
            "Epoch [39/100], Step [100/500] Loss: 0.1235 Accuracy: 96.0%\n",
            "Epoch [39/100], Step [200/500] Loss: 0.0759 Accuracy: 96.0%\n",
            "Epoch [39/100], Step [300/500] Loss: 0.2761 Accuracy: 90.0%\n",
            "Epoch [39/100], Step [400/500] Loss: 0.2329 Accuracy: 90.0%\n",
            "Epoch [39/100], Step [500/500] Loss: 0.1188 Accuracy: 97.0%\n",
            "Accuracy in the epoch = 95.41600000000003%\n",
            "Epoch [40/100], Step [100/500] Loss: 0.1167 Accuracy: 96.0%\n",
            "Epoch [40/100], Step [200/500] Loss: 0.1380 Accuracy: 96.0%\n",
            "Epoch [40/100], Step [300/500] Loss: 0.1251 Accuracy: 95.0%\n",
            "Epoch [40/100], Step [400/500] Loss: 0.0960 Accuracy: 96.0%\n",
            "Epoch [40/100], Step [500/500] Loss: 0.1231 Accuracy: 94.0%\n",
            "Accuracy in the epoch = 95.618%\n",
            "Epoch [41/100], Step [100/500] Loss: 0.0673 Accuracy: 99.0%\n",
            "Epoch [41/100], Step [200/500] Loss: 0.1279 Accuracy: 94.0%\n",
            "Epoch [41/100], Step [300/500] Loss: 0.0783 Accuracy: 98.0%\n",
            "Epoch [41/100], Step [400/500] Loss: 0.2001 Accuracy: 91.0%\n",
            "Epoch [41/100], Step [500/500] Loss: 0.1566 Accuracy: 91.0%\n",
            "Accuracy in the epoch = 96.65200000000009%\n",
            "Epoch [42/100], Step [100/500] Loss: 0.0492 Accuracy: 100.0%\n",
            "Epoch [42/100], Step [200/500] Loss: 0.0970 Accuracy: 96.0%\n",
            "Epoch [42/100], Step [300/500] Loss: 0.0698 Accuracy: 97.0%\n",
            "Epoch [42/100], Step [400/500] Loss: 0.1120 Accuracy: 97.0%\n",
            "Epoch [42/100], Step [500/500] Loss: 0.0749 Accuracy: 97.0%\n",
            "Accuracy in the epoch = 97.01800000000028%\n",
            "Epoch [43/100], Step [100/500] Loss: 0.1876 Accuracy: 93.0%\n",
            "Epoch [43/100], Step [200/500] Loss: 0.0688 Accuracy: 97.0%\n",
            "Epoch [43/100], Step [300/500] Loss: 0.0708 Accuracy: 97.0%\n",
            "Epoch [43/100], Step [400/500] Loss: 0.0939 Accuracy: 98.0%\n",
            "Epoch [43/100], Step [500/500] Loss: 0.1070 Accuracy: 96.0%\n",
            "Accuracy in the epoch = 97.05000000000024%\n",
            "Epoch [44/100], Step [100/500] Loss: 0.0605 Accuracy: 99.0%\n",
            "Epoch [44/100], Step [200/500] Loss: 0.0303 Accuracy: 99.0%\n",
            "Epoch [44/100], Step [300/500] Loss: 0.0596 Accuracy: 97.0%\n",
            "Epoch [44/100], Step [400/500] Loss: 0.0984 Accuracy: 97.0%\n",
            "Epoch [44/100], Step [500/500] Loss: 0.1381 Accuracy: 96.0%\n",
            "Accuracy in the epoch = 97.2100000000003%\n",
            "Epoch [45/100], Step [100/500] Loss: 0.0634 Accuracy: 99.0%\n",
            "Epoch [45/100], Step [200/500] Loss: 0.0374 Accuracy: 100.0%\n",
            "Epoch [45/100], Step [300/500] Loss: 0.0497 Accuracy: 99.0%\n",
            "Epoch [45/100], Step [400/500] Loss: 0.0698 Accuracy: 98.0%\n",
            "Epoch [45/100], Step [500/500] Loss: 0.0503 Accuracy: 98.0%\n",
            "Accuracy in the epoch = 97.28600000000037%\n",
            "Epoch [46/100], Step [100/500] Loss: 0.1292 Accuracy: 95.0%\n",
            "Epoch [46/100], Step [200/500] Loss: 0.1726 Accuracy: 96.0%\n",
            "Epoch [46/100], Step [300/500] Loss: 0.0653 Accuracy: 98.0%\n",
            "Epoch [46/100], Step [400/500] Loss: 0.0353 Accuracy: 98.0%\n",
            "Epoch [46/100], Step [500/500] Loss: 0.0523 Accuracy: 99.0%\n",
            "Accuracy in the epoch = 97.41400000000031%\n",
            "Epoch [47/100], Step [100/500] Loss: 0.0774 Accuracy: 98.0%\n",
            "Epoch [47/100], Step [200/500] Loss: 0.0578 Accuracy: 98.0%\n",
            "Epoch [47/100], Step [300/500] Loss: 0.1092 Accuracy: 95.0%\n",
            "Epoch [47/100], Step [400/500] Loss: 0.0630 Accuracy: 97.0%\n",
            "Epoch [47/100], Step [500/500] Loss: 0.1306 Accuracy: 97.0%\n",
            "Accuracy in the epoch = 97.44600000000034%\n",
            "Epoch [48/100], Step [100/500] Loss: 0.1225 Accuracy: 95.0%\n",
            "Epoch [48/100], Step [200/500] Loss: 0.0356 Accuracy: 99.0%\n",
            "Epoch [48/100], Step [300/500] Loss: 0.0566 Accuracy: 99.0%\n",
            "Epoch [48/100], Step [400/500] Loss: 0.1518 Accuracy: 94.0%\n",
            "Epoch [48/100], Step [500/500] Loss: 0.0702 Accuracy: 96.0%\n",
            "Accuracy in the epoch = 97.47400000000047%\n",
            "Epoch [49/100], Step [100/500] Loss: 0.0680 Accuracy: 99.0%\n",
            "Epoch [49/100], Step [200/500] Loss: 0.0634 Accuracy: 99.0%\n",
            "Epoch [49/100], Step [300/500] Loss: 0.0631 Accuracy: 98.0%\n",
            "Epoch [49/100], Step [400/500] Loss: 0.0557 Accuracy: 99.0%\n",
            "Epoch [49/100], Step [500/500] Loss: 0.0512 Accuracy: 98.0%\n",
            "Accuracy in the epoch = 97.65600000000036%\n",
            "Epoch [50/100], Step [100/500] Loss: 0.0318 Accuracy: 99.0%\n",
            "Epoch [50/100], Step [200/500] Loss: 0.0532 Accuracy: 98.0%\n",
            "Epoch [50/100], Step [300/500] Loss: 0.0471 Accuracy: 97.0%\n",
            "Epoch [50/100], Step [400/500] Loss: 0.0324 Accuracy: 100.0%\n",
            "Epoch [50/100], Step [500/500] Loss: 0.0521 Accuracy: 98.0%\n",
            "Accuracy in the epoch = 97.78600000000041%\n"
          ],
          "name": "stdout"
        }
      ]
    },
    {
      "metadata": {
        "id": "AO0me7vPmlWa",
        "colab_type": "code",
        "colab": {
          "base_uri": "https://localhost:8080/",
          "height": 35
        },
        "outputId": "bbeb1be4-0ba3-409c-95f5-574e3d6d9636"
      },
      "cell_type": "code",
      "source": [
        "with torch.no_grad():\n",
        "    correct = 0\n",
        "    total = 0\n",
        "    for images, labels in test_loader:\n",
        "        images = images.to(device)\n",
        "        labels = labels.to(device)\n",
        "        outputs = model(images)\n",
        "        _, predicted = torch.max(outputs.data, 1)\n",
        "        total += labels.size(0)\n",
        "        correct += (predicted == labels).sum().item()\n",
        "\n",
        "    print('Accuracy of the model on the test images: {} %'.format(100 * correct / total))\n"
      ],
      "execution_count": 24,
      "outputs": [
        {
          "output_type": "stream",
          "text": [
            "Accuracy of the model on the test images: 88.89 %\n"
          ],
          "name": "stdout"
        }
      ]
    },
    {
      "metadata": {
        "id": "glfehEiIVsXd",
        "colab_type": "code",
        "colab": {
          "base_uri": "https://localhost:8080/",
          "height": 2767
        },
        "outputId": "bfc413a3-f8d7-470a-fb6a-898f49120578"
      },
      "cell_type": "code",
      "source": [
        "epoch_accuracy=0\n",
        "for epoch in range(50,75):\n",
        "    for i, (images, labels) in enumerate(train_loader):\n",
        "        total=0\n",
        "        correct=0\n",
        "        images = images.to(device)\n",
        "        labels = labels.to(device)\n",
        "        \n",
        "        # Forward pass\n",
        "        outputs = model(images)\n",
        "        loss = criterion(outputs, labels)\n",
        "        \n",
        "        #calculating accuracy\n",
        "        _, predicted = torch.max(outputs.data, 1)\n",
        "        total += labels.size(0)\n",
        "        correct += (predicted == labels).sum().item()\n",
        "        \n",
        "        # Backward and optimize\n",
        "        optimizer.zero_grad()\n",
        "        loss.backward()\n",
        "        optimizer.step()\n",
        "        \n",
        "        if (i+1) % 100 == 0:\n",
        "            print (\"Epoch [{}/{}], Step [{}/{}] Loss: {:.4f} Accuracy: {}%\"\n",
        "                   .format(epoch+1, num_epochs, i+1, total_step, loss.item(),(100 * correct / total)))\n",
        "        \n",
        "        epoch_accuracy+=correct / total\n",
        "\n",
        "    # Decay learning rate\n",
        "    if (epoch+1) % 20 == 0:\n",
        "        curr_lr /= 2\n",
        "        update_lr(optimizer, curr_lr)\n",
        "    print(\"Accuracy in the epoch = {}%\".format(epoch_accuracy/5))\n",
        "    epoch_accuracy=0\n",
        "\n",
        "# Test the model"
      ],
      "execution_count": 25,
      "outputs": [
        {
          "output_type": "stream",
          "text": [
            "Epoch [51/100], Step [100/500] Loss: 0.0355 Accuracy: 99.0%\n",
            "Epoch [51/100], Step [200/500] Loss: 0.0505 Accuracy: 98.0%\n",
            "Epoch [51/100], Step [300/500] Loss: 0.0879 Accuracy: 96.0%\n",
            "Epoch [51/100], Step [400/500] Loss: 0.0586 Accuracy: 97.0%\n",
            "Epoch [51/100], Step [500/500] Loss: 0.0737 Accuracy: 98.0%\n",
            "Accuracy in the epoch = 97.64600000000034%\n",
            "Epoch [52/100], Step [100/500] Loss: 0.0849 Accuracy: 98.0%\n",
            "Epoch [52/100], Step [200/500] Loss: 0.0436 Accuracy: 100.0%\n",
            "Epoch [52/100], Step [300/500] Loss: 0.1071 Accuracy: 97.0%\n",
            "Epoch [52/100], Step [400/500] Loss: 0.0806 Accuracy: 98.0%\n",
            "Epoch [52/100], Step [500/500] Loss: 0.1200 Accuracy: 95.0%\n",
            "Accuracy in the epoch = 97.83600000000044%\n",
            "Epoch [53/100], Step [100/500] Loss: 0.0267 Accuracy: 100.0%\n",
            "Epoch [53/100], Step [200/500] Loss: 0.0974 Accuracy: 97.0%\n",
            "Epoch [53/100], Step [300/500] Loss: 0.0289 Accuracy: 99.0%\n",
            "Epoch [53/100], Step [400/500] Loss: 0.0801 Accuracy: 96.0%\n",
            "Epoch [53/100], Step [500/500] Loss: 0.1045 Accuracy: 95.0%\n",
            "Accuracy in the epoch = 97.85000000000055%\n",
            "Epoch [54/100], Step [100/500] Loss: 0.0531 Accuracy: 98.0%\n",
            "Epoch [54/100], Step [200/500] Loss: 0.0674 Accuracy: 96.0%\n",
            "Epoch [54/100], Step [300/500] Loss: 0.0246 Accuracy: 99.0%\n",
            "Epoch [54/100], Step [400/500] Loss: 0.0407 Accuracy: 99.0%\n",
            "Epoch [54/100], Step [500/500] Loss: 0.0427 Accuracy: 99.0%\n",
            "Accuracy in the epoch = 97.81200000000045%\n",
            "Epoch [55/100], Step [100/500] Loss: 0.0849 Accuracy: 97.0%\n",
            "Epoch [55/100], Step [200/500] Loss: 0.0463 Accuracy: 99.0%\n",
            "Epoch [55/100], Step [300/500] Loss: 0.0338 Accuracy: 99.0%\n",
            "Epoch [55/100], Step [400/500] Loss: 0.0322 Accuracy: 99.0%\n",
            "Epoch [55/100], Step [500/500] Loss: 0.0496 Accuracy: 98.0%\n",
            "Accuracy in the epoch = 98.00400000000035%\n",
            "Epoch [56/100], Step [100/500] Loss: 0.0505 Accuracy: 99.0%\n",
            "Epoch [56/100], Step [200/500] Loss: 0.1182 Accuracy: 96.0%\n",
            "Epoch [56/100], Step [300/500] Loss: 0.0462 Accuracy: 98.0%\n",
            "Epoch [56/100], Step [400/500] Loss: 0.0826 Accuracy: 98.0%\n",
            "Epoch [56/100], Step [500/500] Loss: 0.0484 Accuracy: 98.0%\n",
            "Accuracy in the epoch = 98.05200000000038%\n",
            "Epoch [57/100], Step [100/500] Loss: 0.0787 Accuracy: 98.0%\n",
            "Epoch [57/100], Step [200/500] Loss: 0.0218 Accuracy: 100.0%\n",
            "Epoch [57/100], Step [300/500] Loss: 0.0528 Accuracy: 99.0%\n",
            "Epoch [57/100], Step [400/500] Loss: 0.0850 Accuracy: 97.0%\n",
            "Epoch [57/100], Step [500/500] Loss: 0.0423 Accuracy: 98.0%\n",
            "Accuracy in the epoch = 98.19000000000054%\n",
            "Epoch [58/100], Step [100/500] Loss: 0.0867 Accuracy: 97.0%\n",
            "Epoch [58/100], Step [200/500] Loss: 0.0706 Accuracy: 99.0%\n",
            "Epoch [58/100], Step [300/500] Loss: 0.0690 Accuracy: 98.0%\n",
            "Epoch [58/100], Step [400/500] Loss: 0.0931 Accuracy: 97.0%\n",
            "Epoch [58/100], Step [500/500] Loss: 0.0430 Accuracy: 99.0%\n",
            "Accuracy in the epoch = 98.28600000000043%\n",
            "Epoch [59/100], Step [100/500] Loss: 0.0347 Accuracy: 99.0%\n",
            "Epoch [59/100], Step [200/500] Loss: 0.0587 Accuracy: 99.0%\n",
            "Epoch [59/100], Step [300/500] Loss: 0.0294 Accuracy: 99.0%\n",
            "Epoch [59/100], Step [400/500] Loss: 0.0573 Accuracy: 98.0%\n",
            "Epoch [59/100], Step [500/500] Loss: 0.0615 Accuracy: 97.0%\n",
            "Accuracy in the epoch = 98.20600000000047%\n",
            "Epoch [60/100], Step [100/500] Loss: 0.0514 Accuracy: 99.0%\n",
            "Epoch [60/100], Step [200/500] Loss: 0.1134 Accuracy: 96.0%\n",
            "Epoch [60/100], Step [300/500] Loss: 0.0698 Accuracy: 97.0%\n",
            "Epoch [60/100], Step [400/500] Loss: 0.0257 Accuracy: 99.0%\n",
            "Epoch [60/100], Step [500/500] Loss: 0.0246 Accuracy: 99.0%\n",
            "Accuracy in the epoch = 98.29200000000047%\n",
            "Epoch [61/100], Step [100/500] Loss: 0.0238 Accuracy: 100.0%\n",
            "Epoch [61/100], Step [200/500] Loss: 0.0098 Accuracy: 100.0%\n",
            "Epoch [61/100], Step [300/500] Loss: 0.0192 Accuracy: 99.0%\n",
            "Epoch [61/100], Step [400/500] Loss: 0.0141 Accuracy: 100.0%\n",
            "Epoch [61/100], Step [500/500] Loss: 0.0393 Accuracy: 99.0%\n",
            "Accuracy in the epoch = 98.59400000000042%\n",
            "Epoch [62/100], Step [100/500] Loss: 0.0313 Accuracy: 99.0%\n",
            "Epoch [62/100], Step [200/500] Loss: 0.0081 Accuracy: 100.0%\n",
            "Epoch [62/100], Step [300/500] Loss: 0.0113 Accuracy: 100.0%\n",
            "Epoch [62/100], Step [400/500] Loss: 0.0478 Accuracy: 98.0%\n",
            "Epoch [62/100], Step [500/500] Loss: 0.0626 Accuracy: 97.0%\n",
            "Accuracy in the epoch = 98.79200000000047%\n",
            "Epoch [63/100], Step [100/500] Loss: 0.0434 Accuracy: 98.0%\n",
            "Epoch [63/100], Step [200/500] Loss: 0.0187 Accuracy: 100.0%\n",
            "Epoch [63/100], Step [300/500] Loss: 0.0459 Accuracy: 99.0%\n",
            "Epoch [63/100], Step [400/500] Loss: 0.0399 Accuracy: 99.0%\n",
            "Epoch [63/100], Step [500/500] Loss: 0.0278 Accuracy: 99.0%\n",
            "Accuracy in the epoch = 98.84800000000044%\n",
            "Epoch [64/100], Step [100/500] Loss: 0.0431 Accuracy: 99.0%\n",
            "Epoch [64/100], Step [200/500] Loss: 0.0280 Accuracy: 100.0%\n",
            "Epoch [64/100], Step [300/500] Loss: 0.0220 Accuracy: 100.0%\n",
            "Epoch [64/100], Step [400/500] Loss: 0.0202 Accuracy: 99.0%\n",
            "Epoch [64/100], Step [500/500] Loss: 0.0536 Accuracy: 99.0%\n",
            "Accuracy in the epoch = 98.93200000000041%\n",
            "Epoch [65/100], Step [100/500] Loss: 0.0257 Accuracy: 98.0%\n",
            "Epoch [65/100], Step [200/500] Loss: 0.0405 Accuracy: 99.0%\n",
            "Epoch [65/100], Step [300/500] Loss: 0.0589 Accuracy: 97.0%\n",
            "Epoch [65/100], Step [400/500] Loss: 0.0206 Accuracy: 100.0%\n",
            "Epoch [65/100], Step [500/500] Loss: 0.0276 Accuracy: 98.0%\n",
            "Accuracy in the epoch = 98.94000000000042%\n",
            "Epoch [66/100], Step [100/500] Loss: 0.0383 Accuracy: 98.0%\n",
            "Epoch [66/100], Step [200/500] Loss: 0.0162 Accuracy: 100.0%\n",
            "Epoch [66/100], Step [300/500] Loss: 0.0424 Accuracy: 99.0%\n",
            "Epoch [66/100], Step [400/500] Loss: 0.0191 Accuracy: 100.0%\n",
            "Epoch [66/100], Step [500/500] Loss: 0.0225 Accuracy: 99.0%\n",
            "Accuracy in the epoch = 98.91400000000047%\n",
            "Epoch [67/100], Step [100/500] Loss: 0.0241 Accuracy: 99.0%\n",
            "Epoch [67/100], Step [200/500] Loss: 0.0495 Accuracy: 98.0%\n",
            "Epoch [67/100], Step [300/500] Loss: 0.0378 Accuracy: 99.0%\n",
            "Epoch [67/100], Step [400/500] Loss: 0.0608 Accuracy: 97.0%\n",
            "Epoch [67/100], Step [500/500] Loss: 0.0442 Accuracy: 99.0%\n",
            "Accuracy in the epoch = 98.8700000000004%\n",
            "Epoch [68/100], Step [100/500] Loss: 0.0323 Accuracy: 99.0%\n",
            "Epoch [68/100], Step [200/500] Loss: 0.0251 Accuracy: 99.0%\n",
            "Epoch [68/100], Step [300/500] Loss: 0.0366 Accuracy: 99.0%\n",
            "Epoch [68/100], Step [400/500] Loss: 0.0616 Accuracy: 98.0%\n",
            "Epoch [68/100], Step [500/500] Loss: 0.0524 Accuracy: 99.0%\n",
            "Accuracy in the epoch = 98.97200000000046%\n",
            "Epoch [69/100], Step [100/500] Loss: 0.0221 Accuracy: 99.0%\n",
            "Epoch [69/100], Step [200/500] Loss: 0.0240 Accuracy: 99.0%\n",
            "Epoch [69/100], Step [300/500] Loss: 0.0460 Accuracy: 99.0%\n",
            "Epoch [69/100], Step [400/500] Loss: 0.0084 Accuracy: 100.0%\n",
            "Epoch [69/100], Step [500/500] Loss: 0.0247 Accuracy: 99.0%\n",
            "Accuracy in the epoch = 99.09600000000036%\n",
            "Epoch [70/100], Step [100/500] Loss: 0.0207 Accuracy: 99.0%\n",
            "Epoch [70/100], Step [200/500] Loss: 0.0719 Accuracy: 98.0%\n",
            "Epoch [70/100], Step [300/500] Loss: 0.0443 Accuracy: 99.0%\n",
            "Epoch [70/100], Step [400/500] Loss: 0.0323 Accuracy: 98.0%\n",
            "Epoch [70/100], Step [500/500] Loss: 0.0069 Accuracy: 100.0%\n",
            "Accuracy in the epoch = 99.09400000000039%\n",
            "Epoch [71/100], Step [100/500] Loss: 0.0183 Accuracy: 100.0%\n",
            "Epoch [71/100], Step [200/500] Loss: 0.0171 Accuracy: 99.0%\n",
            "Epoch [71/100], Step [300/500] Loss: 0.0291 Accuracy: 99.0%\n",
            "Epoch [71/100], Step [400/500] Loss: 0.0336 Accuracy: 99.0%\n",
            "Epoch [71/100], Step [500/500] Loss: 0.0132 Accuracy: 99.0%\n",
            "Accuracy in the epoch = 99.04600000000036%\n",
            "Epoch [72/100], Step [100/500] Loss: 0.0128 Accuracy: 100.0%\n",
            "Epoch [72/100], Step [200/500] Loss: 0.0079 Accuracy: 100.0%\n",
            "Epoch [72/100], Step [300/500] Loss: 0.0449 Accuracy: 99.0%\n",
            "Epoch [72/100], Step [400/500] Loss: 0.0281 Accuracy: 99.0%\n",
            "Epoch [72/100], Step [500/500] Loss: 0.0274 Accuracy: 99.0%\n",
            "Accuracy in the epoch = 99.05600000000035%\n",
            "Epoch [73/100], Step [100/500] Loss: 0.0072 Accuracy: 100.0%\n",
            "Epoch [73/100], Step [200/500] Loss: 0.0331 Accuracy: 99.0%\n",
            "Epoch [73/100], Step [300/500] Loss: 0.0281 Accuracy: 99.0%\n",
            "Epoch [73/100], Step [400/500] Loss: 0.0155 Accuracy: 100.0%\n",
            "Epoch [73/100], Step [500/500] Loss: 0.0265 Accuracy: 99.0%\n",
            "Accuracy in the epoch = 99.09400000000036%\n",
            "Epoch [74/100], Step [100/500] Loss: 0.0053 Accuracy: 100.0%\n",
            "Epoch [74/100], Step [200/500] Loss: 0.0138 Accuracy: 99.0%\n",
            "Epoch [74/100], Step [300/500] Loss: 0.0191 Accuracy: 100.0%\n",
            "Epoch [74/100], Step [400/500] Loss: 0.0556 Accuracy: 99.0%\n",
            "Epoch [74/100], Step [500/500] Loss: 0.0167 Accuracy: 99.0%\n",
            "Accuracy in the epoch = 99.24200000000027%\n",
            "Epoch [75/100], Step [100/500] Loss: 0.0400 Accuracy: 98.0%\n",
            "Epoch [75/100], Step [200/500] Loss: 0.0215 Accuracy: 99.0%\n",
            "Epoch [75/100], Step [300/500] Loss: 0.0493 Accuracy: 99.0%\n",
            "Epoch [75/100], Step [400/500] Loss: 0.0147 Accuracy: 100.0%\n",
            "Epoch [75/100], Step [500/500] Loss: 0.0261 Accuracy: 98.0%\n",
            "Accuracy in the epoch = 99.12000000000035%\n"
          ],
          "name": "stdout"
        }
      ]
    },
    {
      "metadata": {
        "id": "6V6zuVG4mm39",
        "colab_type": "code",
        "colab": {
          "base_uri": "https://localhost:8080/",
          "height": 35
        },
        "outputId": "faeb3c38-2290-408a-c24c-0bbc95761c5a"
      },
      "cell_type": "code",
      "source": [
        "with torch.no_grad():\n",
        "    correct = 0\n",
        "    total = 0\n",
        "    for images, labels in test_loader:\n",
        "        images = images.to(device)\n",
        "        labels = labels.to(device)\n",
        "        outputs = model(images)\n",
        "        _, predicted = torch.max(outputs.data, 1)\n",
        "        total += labels.size(0)\n",
        "        correct += (predicted == labels).sum().item()\n",
        "\n",
        "    print('Accuracy of the model on the test images: {} %'.format(100 * correct / total))\n"
      ],
      "execution_count": 26,
      "outputs": [
        {
          "output_type": "stream",
          "text": [
            "Accuracy of the model on the test images: 89.58 %\n"
          ],
          "name": "stdout"
        }
      ]
    },
    {
      "metadata": {
        "id": "UWgTbWGqVwf_",
        "colab_type": "code",
        "colab": {
          "base_uri": "https://localhost:8080/",
          "height": 358
        },
        "outputId": "ac2bd0fc-a3aa-4e59-f588-f9d3b1685a8a"
      },
      "cell_type": "code",
      "source": [
        "epoch_accuracy=0\n",
        "for epoch in range(75,100):\n",
        "    for i, (images, labels) in enumerate(train_loader):\n",
        "        total=0\n",
        "        correct=0\n",
        "        images = images.to(device)\n",
        "        labels = labels.to(device)\n",
        "        \n",
        "        # Forward pass\n",
        "        outputs = model(images)\n",
        "        loss = criterion(outputs, labels)\n",
        "        \n",
        "        #calculating accuracy\n",
        "        _, predicted = torch.max(outputs.data, 1)\n",
        "        total += labels.size(0)\n",
        "        correct += (predicted == labels).sum().item()\n",
        "        \n",
        "        # Backward and optimize\n",
        "        optimizer.zero_grad()\n",
        "        loss.backward()\n",
        "        optimizer.step()\n",
        "        \n",
        "        if (i+1) % 100 == 0:\n",
        "            print (\"Epoch [{}/{}], Step [{}/{}] Loss: {:.4f} Accuracy: {}%\"\n",
        "                   .format(epoch+1, num_epochs, i+1, total_step, loss.item(),(100 * correct / total)))\n",
        "        \n",
        "        epoch_accuracy+=correct / total\n",
        "\n",
        "    # Decay learning rate\n",
        "    if (epoch+1) % 20 == 0:\n",
        "        curr_lr /= 2\n",
        "        update_lr(optimizer, curr_lr)\n",
        "    print(\"Accuracy in the epoch = {}%\".format(epoch_accuracy/5))\n",
        "    epoch_accuracy=0\n",
        "\n",
        "# Test the model"
      ],
      "execution_count": 29,
      "outputs": [
        {
          "output_type": "stream",
          "text": [
            "Epoch [76/100], Step [100/500] Loss: 0.0121 Accuracy: 100.0%\n",
            "Epoch [76/100], Step [200/500] Loss: 0.0296 Accuracy: 100.0%\n",
            "Epoch [76/100], Step [300/500] Loss: 0.0298 Accuracy: 98.0%\n",
            "Epoch [76/100], Step [400/500] Loss: 0.0235 Accuracy: 100.0%\n",
            "Epoch [76/100], Step [500/500] Loss: 0.0129 Accuracy: 100.0%\n",
            "Accuracy in the epoch = 99.51400000000027%\n"
          ],
          "name": "stdout"
        },
        {
          "output_type": "error",
          "ename": "KeyboardInterrupt",
          "evalue": "ignored",
          "traceback": [
            "\u001b[0;31m---------------------------------------------------------------------------\u001b[0m",
            "\u001b[0;31mKeyboardInterrupt\u001b[0m                         Traceback (most recent call last)",
            "\u001b[0;32m<ipython-input-29-7a23a7a505b2>\u001b[0m in \u001b[0;36m<module>\u001b[0;34m()\u001b[0m\n\u001b[1;32m      4\u001b[0m         \u001b[0mtotal\u001b[0m\u001b[0;34m=\u001b[0m\u001b[0;36m0\u001b[0m\u001b[0;34m\u001b[0m\u001b[0;34m\u001b[0m\u001b[0m\n\u001b[1;32m      5\u001b[0m         \u001b[0mcorrect\u001b[0m\u001b[0;34m=\u001b[0m\u001b[0;36m0\u001b[0m\u001b[0;34m\u001b[0m\u001b[0;34m\u001b[0m\u001b[0m\n\u001b[0;32m----> 6\u001b[0;31m         \u001b[0mimages\u001b[0m \u001b[0;34m=\u001b[0m \u001b[0mimages\u001b[0m\u001b[0;34m.\u001b[0m\u001b[0mto\u001b[0m\u001b[0;34m(\u001b[0m\u001b[0mdevice\u001b[0m\u001b[0;34m)\u001b[0m\u001b[0;34m\u001b[0m\u001b[0;34m\u001b[0m\u001b[0m\n\u001b[0m\u001b[1;32m      7\u001b[0m         \u001b[0mlabels\u001b[0m \u001b[0;34m=\u001b[0m \u001b[0mlabels\u001b[0m\u001b[0;34m.\u001b[0m\u001b[0mto\u001b[0m\u001b[0;34m(\u001b[0m\u001b[0mdevice\u001b[0m\u001b[0;34m)\u001b[0m\u001b[0;34m\u001b[0m\u001b[0;34m\u001b[0m\u001b[0m\n\u001b[1;32m      8\u001b[0m \u001b[0;34m\u001b[0m\u001b[0m\n",
            "\u001b[0;31mKeyboardInterrupt\u001b[0m: "
          ]
        }
      ]
    },
    {
      "metadata": {
        "id": "qFWwNzbNUqDG",
        "colab_type": "code",
        "colab": {
          "base_uri": "https://localhost:8080/",
          "height": 35
        },
        "outputId": "b9b84881-c50c-43cf-9a3e-344ef2c7204d"
      },
      "cell_type": "code",
      "source": [
        "with torch.no_grad():\n",
        "    correct = 0\n",
        "    total = 0\n",
        "    for images, labels in test_loader:\n",
        "        images = images.to(device)\n",
        "        labels = labels.to(device)\n",
        "        outputs = model(images)\n",
        "        _, predicted = torch.max(outputs.data, 1)\n",
        "        total += labels.size(0)\n",
        "        correct += (predicted == labels).sum().item()\n",
        "\n",
        "    print('Accuracy of the model on the test images: {} %'.format(100 * correct / total))\n"
      ],
      "execution_count": 30,
      "outputs": [
        {
          "output_type": "stream",
          "text": [
            "Accuracy of the model on the test images: 89.73 %\n"
          ],
          "name": "stdout"
        }
      ]
    },
    {
      "metadata": {
        "id": "QWt50zb1UwL0",
        "colab_type": "code",
        "colab": {
          "base_uri": "https://localhost:8080/",
          "height": 1520
        },
        "outputId": "e198f3b5-13b3-49ee-d702-1669817c516b"
      },
      "cell_type": "code",
      "source": [
        "model.eval()"
      ],
      "execution_count": 31,
      "outputs": [
        {
          "output_type": "execute_result",
          "data": {
            "text/plain": [
              "ResNet(\n",
              "  (conv1): Conv2d(3, 64, kernel_size=(3, 3), stride=(1, 1), padding=(1, 1), bias=False)\n",
              "  (bn1): BatchNorm2d(64, eps=1e-05, momentum=0.1, affine=True, track_running_stats=True)\n",
              "  (layer1): Sequential(\n",
              "    (0): IdentityBlock(\n",
              "      (conv1): Conv2d(64, 64, kernel_size=(3, 3), stride=(1, 1), padding=(1, 1), bias=False)\n",
              "      (bn1): BatchNorm2d(64, eps=1e-05, momentum=0.1, affine=True, track_running_stats=True)\n",
              "      (conv2): Conv2d(64, 64, kernel_size=(3, 3), stride=(1, 1), padding=(1, 1), bias=False)\n",
              "      (bn2): BatchNorm2d(64, eps=1e-05, momentum=0.1, affine=True, track_running_stats=True)\n",
              "      (shortcut): Sequential()\n",
              "    )\n",
              "    (1): IdentityBlock(\n",
              "      (conv1): Conv2d(64, 64, kernel_size=(3, 3), stride=(1, 1), padding=(1, 1), bias=False)\n",
              "      (bn1): BatchNorm2d(64, eps=1e-05, momentum=0.1, affine=True, track_running_stats=True)\n",
              "      (conv2): Conv2d(64, 64, kernel_size=(3, 3), stride=(1, 1), padding=(1, 1), bias=False)\n",
              "      (bn2): BatchNorm2d(64, eps=1e-05, momentum=0.1, affine=True, track_running_stats=True)\n",
              "      (shortcut): Sequential()\n",
              "    )\n",
              "  )\n",
              "  (layer2): Sequential(\n",
              "    (0): IdentityBlock(\n",
              "      (conv1): Conv2d(64, 128, kernel_size=(3, 3), stride=(2, 2), padding=(1, 1), bias=False)\n",
              "      (bn1): BatchNorm2d(128, eps=1e-05, momentum=0.1, affine=True, track_running_stats=True)\n",
              "      (conv2): Conv2d(128, 128, kernel_size=(3, 3), stride=(1, 1), padding=(1, 1), bias=False)\n",
              "      (bn2): BatchNorm2d(128, eps=1e-05, momentum=0.1, affine=True, track_running_stats=True)\n",
              "      (shortcut): Sequential(\n",
              "        (0): Conv2d(64, 128, kernel_size=(1, 1), stride=(2, 2), bias=False)\n",
              "        (1): BatchNorm2d(128, eps=1e-05, momentum=0.1, affine=True, track_running_stats=True)\n",
              "      )\n",
              "    )\n",
              "    (1): IdentityBlock(\n",
              "      (conv1): Conv2d(128, 128, kernel_size=(3, 3), stride=(1, 1), padding=(1, 1), bias=False)\n",
              "      (bn1): BatchNorm2d(128, eps=1e-05, momentum=0.1, affine=True, track_running_stats=True)\n",
              "      (conv2): Conv2d(128, 128, kernel_size=(3, 3), stride=(1, 1), padding=(1, 1), bias=False)\n",
              "      (bn2): BatchNorm2d(128, eps=1e-05, momentum=0.1, affine=True, track_running_stats=True)\n",
              "      (shortcut): Sequential()\n",
              "    )\n",
              "  )\n",
              "  (conv2): Conv2d(128, 128, kernel_size=(5, 5), stride=(1, 1), padding=(2, 2), bias=False)\n",
              "  (bn2): BatchNorm2d(128, eps=1e-05, momentum=0.1, affine=True, track_running_stats=True)\n",
              "  (layer3): Sequential(\n",
              "    (0): IdentityBlock(\n",
              "      (conv1): Conv2d(128, 256, kernel_size=(3, 3), stride=(2, 2), padding=(1, 1), bias=False)\n",
              "      (bn1): BatchNorm2d(256, eps=1e-05, momentum=0.1, affine=True, track_running_stats=True)\n",
              "      (conv2): Conv2d(256, 256, kernel_size=(3, 3), stride=(1, 1), padding=(1, 1), bias=False)\n",
              "      (bn2): BatchNorm2d(256, eps=1e-05, momentum=0.1, affine=True, track_running_stats=True)\n",
              "      (shortcut): Sequential(\n",
              "        (0): Conv2d(128, 256, kernel_size=(1, 1), stride=(2, 2), bias=False)\n",
              "        (1): BatchNorm2d(256, eps=1e-05, momentum=0.1, affine=True, track_running_stats=True)\n",
              "      )\n",
              "    )\n",
              "    (1): IdentityBlock(\n",
              "      (conv1): Conv2d(256, 256, kernel_size=(3, 3), stride=(1, 1), padding=(1, 1), bias=False)\n",
              "      (bn1): BatchNorm2d(256, eps=1e-05, momentum=0.1, affine=True, track_running_stats=True)\n",
              "      (conv2): Conv2d(256, 256, kernel_size=(3, 3), stride=(1, 1), padding=(1, 1), bias=False)\n",
              "      (bn2): BatchNorm2d(256, eps=1e-05, momentum=0.1, affine=True, track_running_stats=True)\n",
              "      (shortcut): Sequential()\n",
              "    )\n",
              "  )\n",
              "  (layer4): Sequential(\n",
              "    (0): IdentityBlock(\n",
              "      (conv1): Conv2d(256, 512, kernel_size=(3, 3), stride=(2, 2), padding=(1, 1), bias=False)\n",
              "      (bn1): BatchNorm2d(512, eps=1e-05, momentum=0.1, affine=True, track_running_stats=True)\n",
              "      (conv2): Conv2d(512, 512, kernel_size=(3, 3), stride=(1, 1), padding=(1, 1), bias=False)\n",
              "      (bn2): BatchNorm2d(512, eps=1e-05, momentum=0.1, affine=True, track_running_stats=True)\n",
              "      (shortcut): Sequential(\n",
              "        (0): Conv2d(256, 512, kernel_size=(1, 1), stride=(2, 2), bias=False)\n",
              "        (1): BatchNorm2d(512, eps=1e-05, momentum=0.1, affine=True, track_running_stats=True)\n",
              "      )\n",
              "    )\n",
              "    (1): IdentityBlock(\n",
              "      (conv1): Conv2d(512, 512, kernel_size=(3, 3), stride=(1, 1), padding=(1, 1), bias=False)\n",
              "      (bn1): BatchNorm2d(512, eps=1e-05, momentum=0.1, affine=True, track_running_stats=True)\n",
              "      (conv2): Conv2d(512, 512, kernel_size=(3, 3), stride=(1, 1), padding=(1, 1), bias=False)\n",
              "      (bn2): BatchNorm2d(512, eps=1e-05, momentum=0.1, affine=True, track_running_stats=True)\n",
              "      (shortcut): Sequential()\n",
              "    )\n",
              "  )\n",
              "  (linear): Linear(in_features=512, out_features=10, bias=True)\n",
              "  (conv3): Conv2d(512, 512, kernel_size=(3, 3), stride=(1, 1), padding=(1, 1), bias=False)\n",
              "  (bn3): BatchNorm2d(512, eps=1e-05, momentum=0.1, affine=True, track_running_stats=True)\n",
              ")"
            ]
          },
          "metadata": {
            "tags": []
          },
          "execution_count": 31
        }
      ]
    },
    {
      "metadata": {
        "id": "nmVKJfV5Sbux",
        "colab_type": "code",
        "colab": {}
      },
      "cell_type": "code",
      "source": [
        "# Save the model checkpoint\n",
        "torch.save(model.state_dict(), 'resnet.ckpt')"
      ],
      "execution_count": 0,
      "outputs": []
    },
    {
      "metadata": {
        "id": "4-JbZADkSeV9",
        "colab_type": "code",
        "colab": {}
      },
      "cell_type": "code",
      "source": [
        ""
      ],
      "execution_count": 0,
      "outputs": []
    }
  ]
}