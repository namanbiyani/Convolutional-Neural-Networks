{
  "nbformat": 4,
  "nbformat_minor": 0,
  "metadata": {
    "colab": {
      "name": "Basic resnet with regularization.ipynb",
      "version": "0.3.2",
      "provenance": [],
      "include_colab_link": true
    },
    "kernelspec": {
      "name": "python3",
      "display_name": "Python 3"
    },
    "accelerator": "GPU"
  },
  "cells": [
    {
      "cell_type": "markdown",
      "metadata": {
        "id": "view-in-github",
        "colab_type": "text"
      },
      "source": [
        "<a href=\"https://colab.research.google.com/github/namanbiyani/Convolutional-Neural-Networks/blob/master/Basic_resnet_with_regularization.ipynb\" target=\"_parent\"><img src=\"https://colab.research.google.com/assets/colab-badge.svg\" alt=\"Open In Colab\"/></a>"
      ]
    },
    {
      "metadata": {
        "id": "2qgT1VP53KOA",
        "colab_type": "code",
        "colab": {}
      },
      "cell_type": "code",
      "source": [
        "import numpy as np\n",
        "import pandas as pd\n",
        "import matplotlib.pyplot as plt"
      ],
      "execution_count": 0,
      "outputs": []
    },
    {
      "metadata": {
        "id": "i0F-aKGX3SdC",
        "colab_type": "code",
        "colab": {
          "base_uri": "https://localhost:8080/",
          "height": 72
        },
        "outputId": "b5e6ba76-1fca-4561-e405-9d2f991f5d96"
      },
      "cell_type": "code",
      "source": [
        "import keras\n",
        "from keras.datasets import cifar10\n",
        "(xtrain,ytrain),(xtest,ytest)=cifar10.load_data()"
      ],
      "execution_count": 2,
      "outputs": [
        {
          "output_type": "stream",
          "text": [
            "Using TensorFlow backend.\n"
          ],
          "name": "stderr"
        },
        {
          "output_type": "stream",
          "text": [
            "Downloading data from https://www.cs.toronto.edu/~kriz/cifar-10-python.tar.gz\n",
            "170500096/170498071 [==============================] - 12s 0us/step\n"
          ],
          "name": "stdout"
        }
      ]
    },
    {
      "metadata": {
        "id": "q9PBYBv73mUu",
        "colab_type": "code",
        "colab": {}
      },
      "cell_type": "code",
      "source": [
        "x_train=xtrain/255\n",
        "x_test=xtest/255"
      ],
      "execution_count": 0,
      "outputs": []
    },
    {
      "metadata": {
        "id": "NeK_1PMb3m84",
        "colab_type": "code",
        "colab": {}
      },
      "cell_type": "code",
      "source": [
        "from keras.utils import np_utils\n",
        "y_train=np_utils.to_categorical(ytrain,10)\n",
        "y_test=np_utils.to_categorical(ytest,10)\n"
      ],
      "execution_count": 0,
      "outputs": []
    },
    {
      "metadata": {
        "id": "z-1TSr4a3oxb",
        "colab_type": "code",
        "colab": {}
      },
      "cell_type": "code",
      "source": [
        "from keras.layers import *\n",
        "from keras.initializers import *"
      ],
      "execution_count": 0,
      "outputs": []
    },
    {
      "metadata": {
        "id": "GRJLuOAk3q-1",
        "colab_type": "code",
        "colab": {}
      },
      "cell_type": "code",
      "source": [
        "def identity_block(X,filters):\n",
        "  \n",
        "  X_copy=X\n",
        "  f1,f2,f3=filters[0],filters[1],filters[2]\n",
        "  \n",
        "  X=Conv2D(filters=f1,kernel_size=(1,1),strides=(1,1),padding=\"same\",kernel_initializer=glorot_uniform(seed=0),kernel_regularizer=regularizers.l2(0.002))(X)\n",
        "  X=BatchNormalization( axis=3)(X)\n",
        "  X=Activation('relu')(X)\n",
        "  \n",
        "  X=Conv2D(filters=f2,kernel_size=(3,3),strides=(1,1),padding=\"same\",kernel_initializer=glorot_uniform(seed=0))(X)\n",
        "  X=BatchNormalization( axis=3)(X)\n",
        "  X=Activation('relu')(X)\n",
        "  \n",
        "  X=Conv2D(filters=f3,kernel_size=(1,1),strides=(1,1),padding=\"same\",kernel_initializer=glorot_uniform(seed=0),kernel_regularizer=regularizers.l2(0.003))(X)\n",
        "  X=BatchNormalization( axis=3)(X)\n",
        "\n",
        "  X=Add()([X,X_copy])\n",
        "  X=Activation('relu')(X)\n",
        "  \n",
        "  return X\n",
        "  \n",
        "  "
      ],
      "execution_count": 0,
      "outputs": []
    },
    {
      "metadata": {
        "id": "B_rc-kJr3tTS",
        "colab_type": "code",
        "colab": {}
      },
      "cell_type": "code",
      "source": [
        "from keras.models import Model\n",
        "def ResnetModel():\n",
        "  \n",
        "  #defining input as a tensor of shape (32,32,3)\n",
        "  X_input=Input((32,32,3))\n",
        "  X=ZeroPadding2D((2,2))(X_input)\n",
        "  \n",
        "  X=Conv2D(64,(3,3),strides=(1,1),padding=\"same\",kernel_initializer=glorot_uniform(seed=0),kernel_regularizer=regularizers.l2(0.002))(X)\n",
        "  X=BatchNormalization(axis=3)(X)\n",
        "  X=Activation('relu')(X)\n",
        "  X=identity_block(X,[64,128,64])\n",
        "  X=MaxPooling2D((2,2),strides=(2,2))(X)\n",
        "  X=identity_block(X,[128,128,64])\n",
        "  \n",
        "  X=Conv2D(256,(3,3),strides=(1,1),padding=\"same\",kernel_initializer=glorot_uniform(seed=0))(X)\n",
        "  X=BatchNormalization(axis=3)(X)\n",
        "  X=Activation('relu')(X)\n",
        "  X=identity_block(X,[128,128,256])\n",
        "  X=identity_block(X,[128,64,256])\n",
        "  X=MaxPooling2D((2,2),strides=(2,2))(X)\n",
        "  \n",
        "  X=identity_block(X,[128,128,256])\n",
        "  X=Conv2D(64,(3,3),strides=(1,1),padding=\"same\",kernel_initializer=glorot_uniform(seed=0))(X)\n",
        "  X=identity_block(X,[128,128,64])\n",
        "  X=Conv2D(64,(3,3),strides=(1,1),padding=\"same\",kernel_initializer=glorot_uniform(seed=0))(X)\n",
        "  X=AveragePooling2D(pool_size=(2,2))(X)\n",
        "\n",
        "  X=Flatten()(X)\n",
        "  X=Dense(128,activation='relu',kernel_initializer=glorot_uniform(seed=0),kernel_regularizer=regularizers.l1_l2(l1=0.001, l2=0.001))(X)\n",
        "  X=Dense(64,activation='relu',kernel_initializer=glorot_uniform(seed=0))(X)\n",
        "  X=Dense(10,activation='softmax',kernel_initializer=glorot_uniform(seed=0))(X)\n",
        "  \n",
        "  model=Model(inputs=X_input , outputs=X )\n",
        "  return model"
      ],
      "execution_count": 0,
      "outputs": []
    },
    {
      "metadata": {
        "id": "jzdYXgwB3wdc",
        "colab_type": "code",
        "colab": {
          "base_uri": "https://localhost:8080/",
          "height": 92
        },
        "outputId": "8e2abafe-ff60-4b45-a554-0650297ca939"
      },
      "cell_type": "code",
      "source": [
        "model = ResnetModel()"
      ],
      "execution_count": 8,
      "outputs": [
        {
          "output_type": "stream",
          "text": [
            "WARNING:tensorflow:From /usr/local/lib/python3.6/dist-packages/tensorflow/python/framework/op_def_library.py:263: colocate_with (from tensorflow.python.framework.ops) is deprecated and will be removed in a future version.\n",
            "Instructions for updating:\n",
            "Colocations handled automatically by placer.\n"
          ],
          "name": "stdout"
        }
      ]
    },
    {
      "metadata": {
        "id": "oO8JdSDr31zL",
        "colab_type": "code",
        "colab": {}
      },
      "cell_type": "code",
      "source": [
        "model.compile(optimizer='adam',loss='categorical_crossentropy',metrics=['accuracy'])"
      ],
      "execution_count": 0,
      "outputs": []
    },
    {
      "metadata": {
        "id": "QmIlOTmw36wS",
        "colab_type": "code",
        "outputId": "ece7e4b1-74c1-4cdb-f25a-8104ed5a5c09",
        "colab": {
          "base_uri": "https://localhost:8080/",
          "height": 474
        }
      },
      "cell_type": "code",
      "source": [
        "model.fit(x_train,y_train,epochs=10,batch_size=64)"
      ],
      "execution_count": 10,
      "outputs": [
        {
          "output_type": "stream",
          "text": [
            "WARNING:tensorflow:From /usr/local/lib/python3.6/dist-packages/tensorflow/python/ops/math_ops.py:3066: to_int32 (from tensorflow.python.ops.math_ops) is deprecated and will be removed in a future version.\n",
            "Instructions for updating:\n",
            "Use tf.cast instead.\n",
            "Epoch 1/10\n",
            "50000/50000 [==============================] - 163s 3ms/step - loss: 4.0218 - acc: 0.4738\n",
            "Epoch 2/10\n",
            "50000/50000 [==============================] - 154s 3ms/step - loss: 1.4758 - acc: 0.6323\n",
            "Epoch 3/10\n",
            "50000/50000 [==============================] - 154s 3ms/step - loss: 1.1802 - acc: 0.7002\n",
            "Epoch 4/10\n",
            "50000/50000 [==============================] - 154s 3ms/step - loss: 1.0359 - acc: 0.7381\n",
            "Epoch 5/10\n",
            "50000/50000 [==============================] - 153s 3ms/step - loss: 0.9374 - acc: 0.7649\n",
            "Epoch 6/10\n",
            "50000/50000 [==============================] - 154s 3ms/step - loss: 0.8661 - acc: 0.7852\n",
            "Epoch 7/10\n",
            "50000/50000 [==============================] - 154s 3ms/step - loss: 0.8076 - acc: 0.8027\n",
            "Epoch 8/10\n",
            "50000/50000 [==============================] - 153s 3ms/step - loss: 0.7505 - acc: 0.8205\n",
            "Epoch 9/10\n",
            "50000/50000 [==============================] - 153s 3ms/step - loss: 0.7090 - acc: 0.8322\n",
            "Epoch 10/10\n",
            "50000/50000 [==============================] - 154s 3ms/step - loss: 0.6660 - acc: 0.8453\n"
          ],
          "name": "stdout"
        },
        {
          "output_type": "execute_result",
          "data": {
            "text/plain": [
              "<keras.callbacks.History at 0x7f3a5f7dd358>"
            ]
          },
          "metadata": {
            "tags": []
          },
          "execution_count": 10
        }
      ]
    },
    {
      "metadata": {
        "id": "z5NBUckC39OA",
        "colab_type": "code",
        "outputId": "1a700be7-bc4d-42f0-c795-31f5eaa917a0",
        "colab": {
          "base_uri": "https://localhost:8080/",
          "height": 399
        }
      },
      "cell_type": "code",
      "source": [
        "model.fit(x_train,y_train,epochs=10,batch_size=64)"
      ],
      "execution_count": 11,
      "outputs": [
        {
          "output_type": "stream",
          "text": [
            "Epoch 1/10\n",
            "50000/50000 [==============================] - 154s 3ms/step - loss: 0.6209 - acc: 0.8594\n",
            "Epoch 2/10\n",
            "50000/50000 [==============================] - 154s 3ms/step - loss: 0.5805 - acc: 0.8718\n",
            "Epoch 3/10\n",
            "50000/50000 [==============================] - 154s 3ms/step - loss: 0.5541 - acc: 0.8802\n",
            "Epoch 4/10\n",
            "50000/50000 [==============================] - 153s 3ms/step - loss: 0.5221 - acc: 0.8922\n",
            "Epoch 5/10\n",
            "50000/50000 [==============================] - 153s 3ms/step - loss: 0.5120 - acc: 0.8965\n",
            "Epoch 6/10\n",
            "50000/50000 [==============================] - 154s 3ms/step - loss: 0.4795 - acc: 0.9068\n",
            "Epoch 7/10\n",
            "50000/50000 [==============================] - 153s 3ms/step - loss: 0.4593 - acc: 0.9126\n",
            "Epoch 8/10\n",
            "50000/50000 [==============================] - 154s 3ms/step - loss: 0.4370 - acc: 0.9212\n",
            "Epoch 9/10\n",
            "50000/50000 [==============================] - 154s 3ms/step - loss: 0.4214 - acc: 0.9248\n",
            "Epoch 10/10\n",
            "50000/50000 [==============================] - 155s 3ms/step - loss: 0.4072 - acc: 0.9315\n"
          ],
          "name": "stdout"
        },
        {
          "output_type": "execute_result",
          "data": {
            "text/plain": [
              "<keras.callbacks.History at 0x7f3a5f7dd978>"
            ]
          },
          "metadata": {
            "tags": []
          },
          "execution_count": 11
        }
      ]
    },
    {
      "metadata": {
        "id": "ZWnT1ca06_wD",
        "colab_type": "code",
        "colab": {
          "base_uri": "https://localhost:8080/",
          "height": 72
        },
        "outputId": "56d50d03-ddc2-4a1e-9f19-e63e0fa35b1d"
      },
      "cell_type": "code",
      "source": [
        "preds = model.evaluate(x_test, y_test)\n",
        "print (\"Loss = \" + str(preds[0]))\n",
        "print (\"Test Accuracy = \" + str(preds[1]))"
      ],
      "execution_count": 12,
      "outputs": [
        {
          "output_type": "stream",
          "text": [
            "10000/10000 [==============================] - 10s 1ms/step\n",
            "Loss = 0.911950994682312\n",
            "Test Accuracy = 0.7874\n"
          ],
          "name": "stdout"
        }
      ]
    },
    {
      "metadata": {
        "id": "ZpToli4U7KQl",
        "colab_type": "code",
        "colab": {
          "base_uri": "https://localhost:8080/",
          "height": 3054
        },
        "outputId": "f4139cd5-78de-4e6c-c36c-a7cfc89406fc"
      },
      "cell_type": "code",
      "source": [
        "model.summary()"
      ],
      "execution_count": 13,
      "outputs": [
        {
          "output_type": "stream",
          "text": [
            "__________________________________________________________________________________________________\n",
            "Layer (type)                    Output Shape         Param #     Connected to                     \n",
            "==================================================================================================\n",
            "input_1 (InputLayer)            (None, 32, 32, 3)    0                                            \n",
            "__________________________________________________________________________________________________\n",
            "zero_padding2d_1 (ZeroPadding2D (None, 36, 36, 3)    0           input_1[0][0]                    \n",
            "__________________________________________________________________________________________________\n",
            "conv2d_1 (Conv2D)               (None, 36, 36, 64)   1792        zero_padding2d_1[0][0]           \n",
            "__________________________________________________________________________________________________\n",
            "batch_normalization_1 (BatchNor (None, 36, 36, 64)   256         conv2d_1[0][0]                   \n",
            "__________________________________________________________________________________________________\n",
            "activation_1 (Activation)       (None, 36, 36, 64)   0           batch_normalization_1[0][0]      \n",
            "__________________________________________________________________________________________________\n",
            "conv2d_2 (Conv2D)               (None, 36, 36, 64)   4160        activation_1[0][0]               \n",
            "__________________________________________________________________________________________________\n",
            "batch_normalization_2 (BatchNor (None, 36, 36, 64)   256         conv2d_2[0][0]                   \n",
            "__________________________________________________________________________________________________\n",
            "activation_2 (Activation)       (None, 36, 36, 64)   0           batch_normalization_2[0][0]      \n",
            "__________________________________________________________________________________________________\n",
            "conv2d_3 (Conv2D)               (None, 36, 36, 128)  73856       activation_2[0][0]               \n",
            "__________________________________________________________________________________________________\n",
            "batch_normalization_3 (BatchNor (None, 36, 36, 128)  512         conv2d_3[0][0]                   \n",
            "__________________________________________________________________________________________________\n",
            "activation_3 (Activation)       (None, 36, 36, 128)  0           batch_normalization_3[0][0]      \n",
            "__________________________________________________________________________________________________\n",
            "conv2d_4 (Conv2D)               (None, 36, 36, 64)   8256        activation_3[0][0]               \n",
            "__________________________________________________________________________________________________\n",
            "batch_normalization_4 (BatchNor (None, 36, 36, 64)   256         conv2d_4[0][0]                   \n",
            "__________________________________________________________________________________________________\n",
            "add_1 (Add)                     (None, 36, 36, 64)   0           batch_normalization_4[0][0]      \n",
            "                                                                 activation_1[0][0]               \n",
            "__________________________________________________________________________________________________\n",
            "activation_4 (Activation)       (None, 36, 36, 64)   0           add_1[0][0]                      \n",
            "__________________________________________________________________________________________________\n",
            "max_pooling2d_1 (MaxPooling2D)  (None, 18, 18, 64)   0           activation_4[0][0]               \n",
            "__________________________________________________________________________________________________\n",
            "conv2d_5 (Conv2D)               (None, 18, 18, 128)  8320        max_pooling2d_1[0][0]            \n",
            "__________________________________________________________________________________________________\n",
            "batch_normalization_5 (BatchNor (None, 18, 18, 128)  512         conv2d_5[0][0]                   \n",
            "__________________________________________________________________________________________________\n",
            "activation_5 (Activation)       (None, 18, 18, 128)  0           batch_normalization_5[0][0]      \n",
            "__________________________________________________________________________________________________\n",
            "conv2d_6 (Conv2D)               (None, 18, 18, 128)  147584      activation_5[0][0]               \n",
            "__________________________________________________________________________________________________\n",
            "batch_normalization_6 (BatchNor (None, 18, 18, 128)  512         conv2d_6[0][0]                   \n",
            "__________________________________________________________________________________________________\n",
            "activation_6 (Activation)       (None, 18, 18, 128)  0           batch_normalization_6[0][0]      \n",
            "__________________________________________________________________________________________________\n",
            "conv2d_7 (Conv2D)               (None, 18, 18, 64)   8256        activation_6[0][0]               \n",
            "__________________________________________________________________________________________________\n",
            "batch_normalization_7 (BatchNor (None, 18, 18, 64)   256         conv2d_7[0][0]                   \n",
            "__________________________________________________________________________________________________\n",
            "add_2 (Add)                     (None, 18, 18, 64)   0           batch_normalization_7[0][0]      \n",
            "                                                                 max_pooling2d_1[0][0]            \n",
            "__________________________________________________________________________________________________\n",
            "activation_7 (Activation)       (None, 18, 18, 64)   0           add_2[0][0]                      \n",
            "__________________________________________________________________________________________________\n",
            "conv2d_8 (Conv2D)               (None, 18, 18, 256)  147712      activation_7[0][0]               \n",
            "__________________________________________________________________________________________________\n",
            "batch_normalization_8 (BatchNor (None, 18, 18, 256)  1024        conv2d_8[0][0]                   \n",
            "__________________________________________________________________________________________________\n",
            "activation_8 (Activation)       (None, 18, 18, 256)  0           batch_normalization_8[0][0]      \n",
            "__________________________________________________________________________________________________\n",
            "conv2d_9 (Conv2D)               (None, 18, 18, 128)  32896       activation_8[0][0]               \n",
            "__________________________________________________________________________________________________\n",
            "batch_normalization_9 (BatchNor (None, 18, 18, 128)  512         conv2d_9[0][0]                   \n",
            "__________________________________________________________________________________________________\n",
            "activation_9 (Activation)       (None, 18, 18, 128)  0           batch_normalization_9[0][0]      \n",
            "__________________________________________________________________________________________________\n",
            "conv2d_10 (Conv2D)              (None, 18, 18, 128)  147584      activation_9[0][0]               \n",
            "__________________________________________________________________________________________________\n",
            "batch_normalization_10 (BatchNo (None, 18, 18, 128)  512         conv2d_10[0][0]                  \n",
            "__________________________________________________________________________________________________\n",
            "activation_10 (Activation)      (None, 18, 18, 128)  0           batch_normalization_10[0][0]     \n",
            "__________________________________________________________________________________________________\n",
            "conv2d_11 (Conv2D)              (None, 18, 18, 256)  33024       activation_10[0][0]              \n",
            "__________________________________________________________________________________________________\n",
            "batch_normalization_11 (BatchNo (None, 18, 18, 256)  1024        conv2d_11[0][0]                  \n",
            "__________________________________________________________________________________________________\n",
            "add_3 (Add)                     (None, 18, 18, 256)  0           batch_normalization_11[0][0]     \n",
            "                                                                 activation_8[0][0]               \n",
            "__________________________________________________________________________________________________\n",
            "activation_11 (Activation)      (None, 18, 18, 256)  0           add_3[0][0]                      \n",
            "__________________________________________________________________________________________________\n",
            "conv2d_12 (Conv2D)              (None, 18, 18, 128)  32896       activation_11[0][0]              \n",
            "__________________________________________________________________________________________________\n",
            "batch_normalization_12 (BatchNo (None, 18, 18, 128)  512         conv2d_12[0][0]                  \n",
            "__________________________________________________________________________________________________\n",
            "activation_12 (Activation)      (None, 18, 18, 128)  0           batch_normalization_12[0][0]     \n",
            "__________________________________________________________________________________________________\n",
            "conv2d_13 (Conv2D)              (None, 18, 18, 64)   73792       activation_12[0][0]              \n",
            "__________________________________________________________________________________________________\n",
            "batch_normalization_13 (BatchNo (None, 18, 18, 64)   256         conv2d_13[0][0]                  \n",
            "__________________________________________________________________________________________________\n",
            "activation_13 (Activation)      (None, 18, 18, 64)   0           batch_normalization_13[0][0]     \n",
            "__________________________________________________________________________________________________\n",
            "conv2d_14 (Conv2D)              (None, 18, 18, 256)  16640       activation_13[0][0]              \n",
            "__________________________________________________________________________________________________\n",
            "batch_normalization_14 (BatchNo (None, 18, 18, 256)  1024        conv2d_14[0][0]                  \n",
            "__________________________________________________________________________________________________\n",
            "add_4 (Add)                     (None, 18, 18, 256)  0           batch_normalization_14[0][0]     \n",
            "                                                                 activation_11[0][0]              \n",
            "__________________________________________________________________________________________________\n",
            "activation_14 (Activation)      (None, 18, 18, 256)  0           add_4[0][0]                      \n",
            "__________________________________________________________________________________________________\n",
            "max_pooling2d_2 (MaxPooling2D)  (None, 9, 9, 256)    0           activation_14[0][0]              \n",
            "__________________________________________________________________________________________________\n",
            "conv2d_15 (Conv2D)              (None, 9, 9, 128)    32896       max_pooling2d_2[0][0]            \n",
            "__________________________________________________________________________________________________\n",
            "batch_normalization_15 (BatchNo (None, 9, 9, 128)    512         conv2d_15[0][0]                  \n",
            "__________________________________________________________________________________________________\n",
            "activation_15 (Activation)      (None, 9, 9, 128)    0           batch_normalization_15[0][0]     \n",
            "__________________________________________________________________________________________________\n",
            "conv2d_16 (Conv2D)              (None, 9, 9, 128)    147584      activation_15[0][0]              \n",
            "__________________________________________________________________________________________________\n",
            "batch_normalization_16 (BatchNo (None, 9, 9, 128)    512         conv2d_16[0][0]                  \n",
            "__________________________________________________________________________________________________\n",
            "activation_16 (Activation)      (None, 9, 9, 128)    0           batch_normalization_16[0][0]     \n",
            "__________________________________________________________________________________________________\n",
            "conv2d_17 (Conv2D)              (None, 9, 9, 256)    33024       activation_16[0][0]              \n",
            "__________________________________________________________________________________________________\n",
            "batch_normalization_17 (BatchNo (None, 9, 9, 256)    1024        conv2d_17[0][0]                  \n",
            "__________________________________________________________________________________________________\n",
            "add_5 (Add)                     (None, 9, 9, 256)    0           batch_normalization_17[0][0]     \n",
            "                                                                 max_pooling2d_2[0][0]            \n",
            "__________________________________________________________________________________________________\n",
            "activation_17 (Activation)      (None, 9, 9, 256)    0           add_5[0][0]                      \n",
            "__________________________________________________________________________________________________\n",
            "conv2d_18 (Conv2D)              (None, 9, 9, 64)     147520      activation_17[0][0]              \n",
            "__________________________________________________________________________________________________\n",
            "conv2d_19 (Conv2D)              (None, 9, 9, 128)    8320        conv2d_18[0][0]                  \n",
            "__________________________________________________________________________________________________\n",
            "batch_normalization_18 (BatchNo (None, 9, 9, 128)    512         conv2d_19[0][0]                  \n",
            "__________________________________________________________________________________________________\n",
            "activation_18 (Activation)      (None, 9, 9, 128)    0           batch_normalization_18[0][0]     \n",
            "__________________________________________________________________________________________________\n",
            "conv2d_20 (Conv2D)              (None, 9, 9, 128)    147584      activation_18[0][0]              \n",
            "__________________________________________________________________________________________________\n",
            "batch_normalization_19 (BatchNo (None, 9, 9, 128)    512         conv2d_20[0][0]                  \n",
            "__________________________________________________________________________________________________\n",
            "activation_19 (Activation)      (None, 9, 9, 128)    0           batch_normalization_19[0][0]     \n",
            "__________________________________________________________________________________________________\n",
            "conv2d_21 (Conv2D)              (None, 9, 9, 64)     8256        activation_19[0][0]              \n",
            "__________________________________________________________________________________________________\n",
            "batch_normalization_20 (BatchNo (None, 9, 9, 64)     256         conv2d_21[0][0]                  \n",
            "__________________________________________________________________________________________________\n",
            "add_6 (Add)                     (None, 9, 9, 64)     0           batch_normalization_20[0][0]     \n",
            "                                                                 conv2d_18[0][0]                  \n",
            "__________________________________________________________________________________________________\n",
            "activation_20 (Activation)      (None, 9, 9, 64)     0           add_6[0][0]                      \n",
            "__________________________________________________________________________________________________\n",
            "conv2d_22 (Conv2D)              (None, 9, 9, 64)     36928       activation_20[0][0]              \n",
            "__________________________________________________________________________________________________\n",
            "average_pooling2d_1 (AveragePoo (None, 4, 4, 64)     0           conv2d_22[0][0]                  \n",
            "__________________________________________________________________________________________________\n",
            "flatten_1 (Flatten)             (None, 1024)         0           average_pooling2d_1[0][0]        \n",
            "__________________________________________________________________________________________________\n",
            "dense_1 (Dense)                 (None, 128)          131200      flatten_1[0][0]                  \n",
            "__________________________________________________________________________________________________\n",
            "dense_2 (Dense)                 (None, 64)           8256        dense_1[0][0]                    \n",
            "__________________________________________________________________________________________________\n",
            "dense_3 (Dense)                 (None, 10)           650         dense_2[0][0]                    \n",
            "==================================================================================================\n",
            "Total params: 1,449,738\n",
            "Trainable params: 1,444,362\n",
            "Non-trainable params: 5,376\n",
            "__________________________________________________________________________________________________\n"
          ],
          "name": "stdout"
        }
      ]
    },
    {
      "metadata": {
        "id": "2W3HLb-o7f2E",
        "colab_type": "code",
        "colab": {}
      },
      "cell_type": "code",
      "source": [
        ""
      ],
      "execution_count": 0,
      "outputs": []
    }
  ]
}