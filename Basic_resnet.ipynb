{
  "nbformat": 4,
  "nbformat_minor": 0,
  "metadata": {
    "colab": {
      "name": "Basic resnet.ipynb",
      "version": "0.3.2",
      "provenance": [],
      "include_colab_link": true
    },
    "kernelspec": {
      "name": "python3",
      "display_name": "Python 3"
    },
    "accelerator": "GPU"
  },
  "cells": [
    {
      "cell_type": "markdown",
      "metadata": {
        "id": "view-in-github",
        "colab_type": "text"
      },
      "source": [
        "<a href=\"https://colab.research.google.com/github/namanbiyani/Convolutional-Neural-Networks/blob/master/Basic_resnet.ipynb\" target=\"_parent\"><img src=\"https://colab.research.google.com/assets/colab-badge.svg\" alt=\"Open In Colab\"/></a>"
      ]
    },
    {
      "metadata": {
        "id": "2qgT1VP53KOA",
        "colab_type": "code",
        "colab": {}
      },
      "cell_type": "code",
      "source": [
        "import numpy as np\n",
        "import pandas as pd\n",
        "import matplotlib.pyplot as plt"
      ],
      "execution_count": 0,
      "outputs": []
    },
    {
      "metadata": {
        "id": "i0F-aKGX3SdC",
        "colab_type": "code",
        "outputId": "f02a2d3b-3722-44da-f629-ff02cc93d83c",
        "colab": {
          "base_uri": "https://localhost:8080/",
          "height": 72
        }
      },
      "cell_type": "code",
      "source": [
        "import keras\n",
        "from keras.datasets import cifar10\n",
        "(xtrain,ytrain),(xtest,ytest)=cifar10.load_data()"
      ],
      "execution_count": 3,
      "outputs": [
        {
          "output_type": "stream",
          "text": [
            "Using TensorFlow backend.\n"
          ],
          "name": "stderr"
        },
        {
          "output_type": "stream",
          "text": [
            "Downloading data from https://www.cs.toronto.edu/~kriz/cifar-10-python.tar.gz\n",
            "170500096/170498071 [==============================] - 18s 0us/step\n"
          ],
          "name": "stdout"
        }
      ]
    },
    {
      "metadata": {
        "id": "q9PBYBv73mUu",
        "colab_type": "code",
        "colab": {}
      },
      "cell_type": "code",
      "source": [
        "x_train=xtrain/255\n",
        "x_test=xtest/255"
      ],
      "execution_count": 0,
      "outputs": []
    },
    {
      "metadata": {
        "id": "NeK_1PMb3m84",
        "colab_type": "code",
        "colab": {}
      },
      "cell_type": "code",
      "source": [
        "from keras.utils import np_utils\n",
        "y_train=np_utils.to_categorical(ytrain,10)\n",
        "y_test=np_utils.to_categorical(ytest,10)\n"
      ],
      "execution_count": 0,
      "outputs": []
    },
    {
      "metadata": {
        "id": "z-1TSr4a3oxb",
        "colab_type": "code",
        "colab": {}
      },
      "cell_type": "code",
      "source": [
        "from keras.layers import *\n",
        "from keras.initializers import *"
      ],
      "execution_count": 0,
      "outputs": []
    },
    {
      "metadata": {
        "id": "GRJLuOAk3q-1",
        "colab_type": "code",
        "colab": {}
      },
      "cell_type": "code",
      "source": [
        "def identity_block(X,filters):\n",
        "  \n",
        "  X_copy=X\n",
        "  f1,f2,f3=filters[0],filters[1],filters[2]\n",
        "  \n",
        "  X=Conv2D(filters=f1,kernel_size=(1,1),strides=(1,1),padding=\"same\",kernel_initializer=glorot_uniform(seed=0))(X)\n",
        "  X=BatchNormalization( axis=3)(X)\n",
        "  X=Activation('relu')(X)\n",
        "  \n",
        "  X=Conv2D(filters=f2,kernel_size=(3,3),strides=(1,1),padding=\"same\",kernel_initializer=glorot_uniform(seed=0))(X)\n",
        "  X=BatchNormalization( axis=3)(X)\n",
        "  X=Activation('relu')(X)\n",
        "  \n",
        "  X=Conv2D(filters=f3,kernel_size=(1,1),strides=(1,1),padding=\"same\",kernel_initializer=glorot_uniform(seed=0))(X)\n",
        "  X=BatchNormalization( axis=3)(X)\n",
        "\n",
        "  X=Add()([X,X_copy])\n",
        "  X=Activation('relu')(X)\n",
        "  \n",
        "  return X\n",
        "  \n",
        "  "
      ],
      "execution_count": 0,
      "outputs": []
    },
    {
      "metadata": {
        "id": "B_rc-kJr3tTS",
        "colab_type": "code",
        "colab": {}
      },
      "cell_type": "code",
      "source": [
        "from keras.models import Model\n",
        "def ResnetModel():\n",
        "  \n",
        "  #defining input as a tensor of shape (32,32,3)\n",
        "  X_input=Input((32,32,3))\n",
        "  X=ZeroPadding2D((2,2))(X_input)\n",
        "  \n",
        "  X=Conv2D(64,(3,3),strides=(1,1),padding=\"same\",kernel_initializer=glorot_uniform(seed=0))(X)\n",
        "  X=BatchNormalization(axis=3)(X)\n",
        "  X=Activation('relu')(X)\n",
        "  X=identity_block(X,[64,128,64])\n",
        "  X=MaxPooling2D((2,2),strides=(2,2))(X)\n",
        "  X=identity_block(X,[128,128,64])\n",
        "  \n",
        "  X=Conv2D(256,(3,3),strides=(1,1),padding=\"same\",kernel_initializer=glorot_uniform(seed=0))(X)\n",
        "  X=BatchNormalization(axis=3)(X)\n",
        "  X=Activation('relu')(X)\n",
        "  X=identity_block(X,[128,128,256])\n",
        "  X=identity_block(X,[128,64,256])\n",
        "  X=MaxPooling2D((2,2),strides=(2,2))(X)\n",
        "  \n",
        "  X=identity_block(X,[128,128,256])\n",
        "  X=Conv2D(64,(3,3),strides=(1,1),padding=\"same\",kernel_initializer=glorot_uniform(seed=0))(X)\n",
        "  X=identity_block(X,[128,128,64])\n",
        "  X=Conv2D(64,(3,3),strides=(1,1),padding=\"same\",kernel_initializer=glorot_uniform(seed=0))(X)\n",
        "  X=AveragePooling2D(pool_size=(2,2))(X)\n",
        "\n",
        "  X=Flatten()(X)\n",
        "  X=Dense(128,activation='relu',kernel_initializer=glorot_uniform(seed=0))(X)\n",
        "  X=Dense(64,activation='relu',kernel_initializer=glorot_uniform(seed=0))(X)\n",
        "  X=Dense(10,activation='softmax',kernel_initializer=glorot_uniform(seed=0))(X)\n",
        "  \n",
        "  model=Model(inputs=X_input , outputs=X )\n",
        "  return model"
      ],
      "execution_count": 0,
      "outputs": []
    },
    {
      "metadata": {
        "id": "jzdYXgwB3wdc",
        "colab_type": "code",
        "outputId": "1001b79e-820f-4320-e920-af2d086c95d7",
        "colab": {
          "base_uri": "https://localhost:8080/",
          "height": 92
        }
      },
      "cell_type": "code",
      "source": [
        "model = ResnetModel()"
      ],
      "execution_count": 9,
      "outputs": [
        {
          "output_type": "stream",
          "text": [
            "WARNING:tensorflow:From /usr/local/lib/python3.6/dist-packages/tensorflow/python/framework/op_def_library.py:263: colocate_with (from tensorflow.python.framework.ops) is deprecated and will be removed in a future version.\n",
            "Instructions for updating:\n",
            "Colocations handled automatically by placer.\n"
          ],
          "name": "stdout"
        }
      ]
    },
    {
      "metadata": {
        "id": "oO8JdSDr31zL",
        "colab_type": "code",
        "colab": {}
      },
      "cell_type": "code",
      "source": [
        "model.compile(optimizer='adam',loss='categorical_crossentropy',metrics=['accuracy'])"
      ],
      "execution_count": 0,
      "outputs": []
    },
    {
      "metadata": {
        "id": "QmIlOTmw36wS",
        "colab_type": "code",
        "outputId": "1c5125a3-ae34-4b8f-e86b-7133fb13f140",
        "colab": {
          "base_uri": "https://localhost:8080/",
          "height": 219
        }
      },
      "cell_type": "code",
      "source": [
        "model.fit(x_train,y_train,epochs=3,batch_size=64)"
      ],
      "execution_count": 11,
      "outputs": [
        {
          "output_type": "stream",
          "text": [
            "WARNING:tensorflow:From /usr/local/lib/python3.6/dist-packages/tensorflow/python/ops/math_ops.py:3066: to_int32 (from tensorflow.python.ops.math_ops) is deprecated and will be removed in a future version.\n",
            "Instructions for updating:\n",
            "Use tf.cast instead.\n",
            "Epoch 1/3\n",
            "50000/50000 [==============================] - 159s 3ms/step - loss: 1.4379 - acc: 0.4832\n",
            "Epoch 2/3\n",
            "50000/50000 [==============================] - 151s 3ms/step - loss: 0.9450 - acc: 0.6622\n",
            "Epoch 3/3\n",
            "50000/50000 [==============================] - 152s 3ms/step - loss: 0.7435 - acc: 0.7388\n"
          ],
          "name": "stdout"
        },
        {
          "output_type": "execute_result",
          "data": {
            "text/plain": [
              "<keras.callbacks.History at 0x7f7e122d1f60>"
            ]
          },
          "metadata": {
            "tags": []
          },
          "execution_count": 11
        }
      ]
    },
    {
      "metadata": {
        "id": "z5NBUckC39OA",
        "colab_type": "code",
        "outputId": "fe489bd3-a962-4194-9d2d-c02cbb7c7cd4",
        "colab": {
          "base_uri": "https://localhost:8080/",
          "height": 145
        }
      },
      "cell_type": "code",
      "source": [
        "model.fit(x_train,y_train,epochs=3,batch_size=64)"
      ],
      "execution_count": 12,
      "outputs": [
        {
          "output_type": "stream",
          "text": [
            "Epoch 1/3\n",
            "50000/50000 [==============================] - 152s 3ms/step - loss: 0.6288 - acc: 0.7798\n",
            "Epoch 2/3\n",
            "50000/50000 [==============================] - 152s 3ms/step - loss: 0.5381 - acc: 0.8115\n",
            "Epoch 3/3\n",
            "50000/50000 [==============================] - 152s 3ms/step - loss: 0.4646 - acc: 0.8389\n"
          ],
          "name": "stdout"
        },
        {
          "output_type": "execute_result",
          "data": {
            "text/plain": [
              "<keras.callbacks.History at 0x7f7e1c383588>"
            ]
          },
          "metadata": {
            "tags": []
          },
          "execution_count": 12
        }
      ]
    },
    {
      "metadata": {
        "id": "InKQyzJ64BDg",
        "colab_type": "code",
        "outputId": "32d87f3f-f1c2-4675-9e68-98bf8665002d",
        "colab": {
          "base_uri": "https://localhost:8080/",
          "height": 145
        }
      },
      "cell_type": "code",
      "source": [
        "model.fit(x_train,y_train,epochs=3,batch_size=64)"
      ],
      "execution_count": 13,
      "outputs": [
        {
          "output_type": "stream",
          "text": [
            "Epoch 1/3\n",
            "50000/50000 [==============================] - 152s 3ms/step - loss: 0.3987 - acc: 0.8585\n",
            "Epoch 2/3\n",
            "50000/50000 [==============================] - 152s 3ms/step - loss: 0.3490 - acc: 0.8772\n",
            "Epoch 3/3\n",
            "50000/50000 [==============================] - 152s 3ms/step - loss: 0.3008 - acc: 0.8946\n"
          ],
          "name": "stdout"
        },
        {
          "output_type": "execute_result",
          "data": {
            "text/plain": [
              "<keras.callbacks.History at 0x7f7dfff31198>"
            ]
          },
          "metadata": {
            "tags": []
          },
          "execution_count": 13
        }
      ]
    },
    {
      "metadata": {
        "id": "KcjTC9m64EHa",
        "colab_type": "code",
        "outputId": "40582064-627d-47a7-844d-9fca9877bb11",
        "colab": {
          "base_uri": "https://localhost:8080/",
          "height": 145
        }
      },
      "cell_type": "code",
      "source": [
        "model.fit(x_train,y_train,epochs=3,batch_size=64)"
      ],
      "execution_count": 14,
      "outputs": [
        {
          "output_type": "stream",
          "text": [
            "Epoch 1/3\n",
            "50000/50000 [==============================] - 153s 3ms/step - loss: 0.2594 - acc: 0.9085\n",
            "Epoch 2/3\n",
            "50000/50000 [==============================] - 153s 3ms/step - loss: 0.2248 - acc: 0.9206\n",
            "Epoch 3/3\n",
            "50000/50000 [==============================] - 153s 3ms/step - loss: 0.1949 - acc: 0.9309\n"
          ],
          "name": "stdout"
        },
        {
          "output_type": "execute_result",
          "data": {
            "text/plain": [
              "<keras.callbacks.History at 0x7f7dfff310f0>"
            ]
          },
          "metadata": {
            "tags": []
          },
          "execution_count": 14
        }
      ]
    },
    {
      "metadata": {
        "id": "PiSjXAUMLQFD",
        "colab_type": "code",
        "colab": {
          "base_uri": "https://localhost:8080/",
          "height": 145
        },
        "outputId": "29ea6843-6b26-44f6-b89e-dd7fbe53e606"
      },
      "cell_type": "code",
      "source": [
        "model.fit(x_train,y_train,epochs=3,batch_size=64)"
      ],
      "execution_count": 15,
      "outputs": [
        {
          "output_type": "stream",
          "text": [
            "Epoch 1/3\n",
            "50000/50000 [==============================] - 152s 3ms/step - loss: 0.1727 - acc: 0.9390\n",
            "Epoch 2/3\n",
            "50000/50000 [==============================] - 152s 3ms/step - loss: 0.1587 - acc: 0.9436\n",
            "Epoch 3/3\n",
            "50000/50000 [==============================] - 152s 3ms/step - loss: 0.1374 - acc: 0.9516\n"
          ],
          "name": "stdout"
        },
        {
          "output_type": "execute_result",
          "data": {
            "text/plain": [
              "<keras.callbacks.History at 0x7f7dfff31160>"
            ]
          },
          "metadata": {
            "tags": []
          },
          "execution_count": 15
        }
      ]
    },
    {
      "metadata": {
        "id": "QIuttn4kDV7Z",
        "colab_type": "code",
        "colab": {
          "base_uri": "https://localhost:8080/",
          "height": 181
        },
        "outputId": "1ed4e381-e6a5-4ab6-ddc8-67f4f8729b97"
      },
      "cell_type": "code",
      "source": [
        "model.fit(x_train,y_train,epochs=4,batch_size=64)"
      ],
      "execution_count": 18,
      "outputs": [
        {
          "output_type": "stream",
          "text": [
            "Epoch 1/4\n",
            "50000/50000 [==============================] - 153s 3ms/step - loss: 0.1313 - acc: 0.9538\n",
            "Epoch 2/4\n",
            "50000/50000 [==============================] - 153s 3ms/step - loss: 0.1085 - acc: 0.9625\n",
            "Epoch 3/4\n",
            "50000/50000 [==============================] - 153s 3ms/step - loss: 0.1082 - acc: 0.9620\n",
            "Epoch 4/4\n",
            "50000/50000 [==============================] - 153s 3ms/step - loss: 0.1021 - acc: 0.9648\n"
          ],
          "name": "stdout"
        },
        {
          "output_type": "execute_result",
          "data": {
            "text/plain": [
              "<keras.callbacks.History at 0x7f7dfff31cf8>"
            ]
          },
          "metadata": {
            "tags": []
          },
          "execution_count": 18
        }
      ]
    },
    {
      "metadata": {
        "id": "-3xBqV-TUSMg",
        "colab_type": "code",
        "colab": {
          "base_uri": "https://localhost:8080/",
          "height": 72
        },
        "outputId": "4573c0b4-6475-48f7-b588-d357f3767a08"
      },
      "cell_type": "code",
      "source": [
        "preds = model.evaluate(x_test, y_test)\n",
        "print (\"Loss = \" + str(preds[0]))\n",
        "print (\"Test Accuracy = \" + str(preds[1]))"
      ],
      "execution_count": 19,
      "outputs": [
        {
          "output_type": "stream",
          "text": [
            "10000/10000 [==============================] - 10s 950us/step\n",
            "Loss = 0.7789234836578369\n",
            "Test Accuracy = 0.8195\n"
          ],
          "name": "stdout"
        }
      ]
    },
    {
      "metadata": {
        "id": "49CMa5FLUjOS",
        "colab_type": "code",
        "colab": {
          "base_uri": "https://localhost:8080/",
          "height": 3054
        },
        "outputId": "c029ad8e-5446-414e-ddbd-6d472ef88f8f"
      },
      "cell_type": "code",
      "source": [
        "model.summary()"
      ],
      "execution_count": 20,
      "outputs": [
        {
          "output_type": "stream",
          "text": [
            "__________________________________________________________________________________________________\n",
            "Layer (type)                    Output Shape         Param #     Connected to                     \n",
            "==================================================================================================\n",
            "input_1 (InputLayer)            (None, 32, 32, 3)    0                                            \n",
            "__________________________________________________________________________________________________\n",
            "zero_padding2d_1 (ZeroPadding2D (None, 36, 36, 3)    0           input_1[0][0]                    \n",
            "__________________________________________________________________________________________________\n",
            "conv2d_1 (Conv2D)               (None, 36, 36, 64)   1792        zero_padding2d_1[0][0]           \n",
            "__________________________________________________________________________________________________\n",
            "batch_normalization_1 (BatchNor (None, 36, 36, 64)   256         conv2d_1[0][0]                   \n",
            "__________________________________________________________________________________________________\n",
            "activation_1 (Activation)       (None, 36, 36, 64)   0           batch_normalization_1[0][0]      \n",
            "__________________________________________________________________________________________________\n",
            "conv2d_2 (Conv2D)               (None, 36, 36, 64)   4160        activation_1[0][0]               \n",
            "__________________________________________________________________________________________________\n",
            "batch_normalization_2 (BatchNor (None, 36, 36, 64)   256         conv2d_2[0][0]                   \n",
            "__________________________________________________________________________________________________\n",
            "activation_2 (Activation)       (None, 36, 36, 64)   0           batch_normalization_2[0][0]      \n",
            "__________________________________________________________________________________________________\n",
            "conv2d_3 (Conv2D)               (None, 36, 36, 128)  73856       activation_2[0][0]               \n",
            "__________________________________________________________________________________________________\n",
            "batch_normalization_3 (BatchNor (None, 36, 36, 128)  512         conv2d_3[0][0]                   \n",
            "__________________________________________________________________________________________________\n",
            "activation_3 (Activation)       (None, 36, 36, 128)  0           batch_normalization_3[0][0]      \n",
            "__________________________________________________________________________________________________\n",
            "conv2d_4 (Conv2D)               (None, 36, 36, 64)   8256        activation_3[0][0]               \n",
            "__________________________________________________________________________________________________\n",
            "batch_normalization_4 (BatchNor (None, 36, 36, 64)   256         conv2d_4[0][0]                   \n",
            "__________________________________________________________________________________________________\n",
            "add_1 (Add)                     (None, 36, 36, 64)   0           batch_normalization_4[0][0]      \n",
            "                                                                 activation_1[0][0]               \n",
            "__________________________________________________________________________________________________\n",
            "activation_4 (Activation)       (None, 36, 36, 64)   0           add_1[0][0]                      \n",
            "__________________________________________________________________________________________________\n",
            "max_pooling2d_1 (MaxPooling2D)  (None, 18, 18, 64)   0           activation_4[0][0]               \n",
            "__________________________________________________________________________________________________\n",
            "conv2d_5 (Conv2D)               (None, 18, 18, 128)  8320        max_pooling2d_1[0][0]            \n",
            "__________________________________________________________________________________________________\n",
            "batch_normalization_5 (BatchNor (None, 18, 18, 128)  512         conv2d_5[0][0]                   \n",
            "__________________________________________________________________________________________________\n",
            "activation_5 (Activation)       (None, 18, 18, 128)  0           batch_normalization_5[0][0]      \n",
            "__________________________________________________________________________________________________\n",
            "conv2d_6 (Conv2D)               (None, 18, 18, 128)  147584      activation_5[0][0]               \n",
            "__________________________________________________________________________________________________\n",
            "batch_normalization_6 (BatchNor (None, 18, 18, 128)  512         conv2d_6[0][0]                   \n",
            "__________________________________________________________________________________________________\n",
            "activation_6 (Activation)       (None, 18, 18, 128)  0           batch_normalization_6[0][0]      \n",
            "__________________________________________________________________________________________________\n",
            "conv2d_7 (Conv2D)               (None, 18, 18, 64)   8256        activation_6[0][0]               \n",
            "__________________________________________________________________________________________________\n",
            "batch_normalization_7 (BatchNor (None, 18, 18, 64)   256         conv2d_7[0][0]                   \n",
            "__________________________________________________________________________________________________\n",
            "add_2 (Add)                     (None, 18, 18, 64)   0           batch_normalization_7[0][0]      \n",
            "                                                                 max_pooling2d_1[0][0]            \n",
            "__________________________________________________________________________________________________\n",
            "activation_7 (Activation)       (None, 18, 18, 64)   0           add_2[0][0]                      \n",
            "__________________________________________________________________________________________________\n",
            "conv2d_8 (Conv2D)               (None, 18, 18, 256)  147712      activation_7[0][0]               \n",
            "__________________________________________________________________________________________________\n",
            "batch_normalization_8 (BatchNor (None, 18, 18, 256)  1024        conv2d_8[0][0]                   \n",
            "__________________________________________________________________________________________________\n",
            "activation_8 (Activation)       (None, 18, 18, 256)  0           batch_normalization_8[0][0]      \n",
            "__________________________________________________________________________________________________\n",
            "conv2d_9 (Conv2D)               (None, 18, 18, 128)  32896       activation_8[0][0]               \n",
            "__________________________________________________________________________________________________\n",
            "batch_normalization_9 (BatchNor (None, 18, 18, 128)  512         conv2d_9[0][0]                   \n",
            "__________________________________________________________________________________________________\n",
            "activation_9 (Activation)       (None, 18, 18, 128)  0           batch_normalization_9[0][0]      \n",
            "__________________________________________________________________________________________________\n",
            "conv2d_10 (Conv2D)              (None, 18, 18, 128)  147584      activation_9[0][0]               \n",
            "__________________________________________________________________________________________________\n",
            "batch_normalization_10 (BatchNo (None, 18, 18, 128)  512         conv2d_10[0][0]                  \n",
            "__________________________________________________________________________________________________\n",
            "activation_10 (Activation)      (None, 18, 18, 128)  0           batch_normalization_10[0][0]     \n",
            "__________________________________________________________________________________________________\n",
            "conv2d_11 (Conv2D)              (None, 18, 18, 256)  33024       activation_10[0][0]              \n",
            "__________________________________________________________________________________________________\n",
            "batch_normalization_11 (BatchNo (None, 18, 18, 256)  1024        conv2d_11[0][0]                  \n",
            "__________________________________________________________________________________________________\n",
            "add_3 (Add)                     (None, 18, 18, 256)  0           batch_normalization_11[0][0]     \n",
            "                                                                 activation_8[0][0]               \n",
            "__________________________________________________________________________________________________\n",
            "activation_11 (Activation)      (None, 18, 18, 256)  0           add_3[0][0]                      \n",
            "__________________________________________________________________________________________________\n",
            "conv2d_12 (Conv2D)              (None, 18, 18, 128)  32896       activation_11[0][0]              \n",
            "__________________________________________________________________________________________________\n",
            "batch_normalization_12 (BatchNo (None, 18, 18, 128)  512         conv2d_12[0][0]                  \n",
            "__________________________________________________________________________________________________\n",
            "activation_12 (Activation)      (None, 18, 18, 128)  0           batch_normalization_12[0][0]     \n",
            "__________________________________________________________________________________________________\n",
            "conv2d_13 (Conv2D)              (None, 18, 18, 64)   73792       activation_12[0][0]              \n",
            "__________________________________________________________________________________________________\n",
            "batch_normalization_13 (BatchNo (None, 18, 18, 64)   256         conv2d_13[0][0]                  \n",
            "__________________________________________________________________________________________________\n",
            "activation_13 (Activation)      (None, 18, 18, 64)   0           batch_normalization_13[0][0]     \n",
            "__________________________________________________________________________________________________\n",
            "conv2d_14 (Conv2D)              (None, 18, 18, 256)  16640       activation_13[0][0]              \n",
            "__________________________________________________________________________________________________\n",
            "batch_normalization_14 (BatchNo (None, 18, 18, 256)  1024        conv2d_14[0][0]                  \n",
            "__________________________________________________________________________________________________\n",
            "add_4 (Add)                     (None, 18, 18, 256)  0           batch_normalization_14[0][0]     \n",
            "                                                                 activation_11[0][0]              \n",
            "__________________________________________________________________________________________________\n",
            "activation_14 (Activation)      (None, 18, 18, 256)  0           add_4[0][0]                      \n",
            "__________________________________________________________________________________________________\n",
            "max_pooling2d_2 (MaxPooling2D)  (None, 9, 9, 256)    0           activation_14[0][0]              \n",
            "__________________________________________________________________________________________________\n",
            "conv2d_15 (Conv2D)              (None, 9, 9, 128)    32896       max_pooling2d_2[0][0]            \n",
            "__________________________________________________________________________________________________\n",
            "batch_normalization_15 (BatchNo (None, 9, 9, 128)    512         conv2d_15[0][0]                  \n",
            "__________________________________________________________________________________________________\n",
            "activation_15 (Activation)      (None, 9, 9, 128)    0           batch_normalization_15[0][0]     \n",
            "__________________________________________________________________________________________________\n",
            "conv2d_16 (Conv2D)              (None, 9, 9, 128)    147584      activation_15[0][0]              \n",
            "__________________________________________________________________________________________________\n",
            "batch_normalization_16 (BatchNo (None, 9, 9, 128)    512         conv2d_16[0][0]                  \n",
            "__________________________________________________________________________________________________\n",
            "activation_16 (Activation)      (None, 9, 9, 128)    0           batch_normalization_16[0][0]     \n",
            "__________________________________________________________________________________________________\n",
            "conv2d_17 (Conv2D)              (None, 9, 9, 256)    33024       activation_16[0][0]              \n",
            "__________________________________________________________________________________________________\n",
            "batch_normalization_17 (BatchNo (None, 9, 9, 256)    1024        conv2d_17[0][0]                  \n",
            "__________________________________________________________________________________________________\n",
            "add_5 (Add)                     (None, 9, 9, 256)    0           batch_normalization_17[0][0]     \n",
            "                                                                 max_pooling2d_2[0][0]            \n",
            "__________________________________________________________________________________________________\n",
            "activation_17 (Activation)      (None, 9, 9, 256)    0           add_5[0][0]                      \n",
            "__________________________________________________________________________________________________\n",
            "conv2d_18 (Conv2D)              (None, 9, 9, 64)     147520      activation_17[0][0]              \n",
            "__________________________________________________________________________________________________\n",
            "conv2d_19 (Conv2D)              (None, 9, 9, 128)    8320        conv2d_18[0][0]                  \n",
            "__________________________________________________________________________________________________\n",
            "batch_normalization_18 (BatchNo (None, 9, 9, 128)    512         conv2d_19[0][0]                  \n",
            "__________________________________________________________________________________________________\n",
            "activation_18 (Activation)      (None, 9, 9, 128)    0           batch_normalization_18[0][0]     \n",
            "__________________________________________________________________________________________________\n",
            "conv2d_20 (Conv2D)              (None, 9, 9, 128)    147584      activation_18[0][0]              \n",
            "__________________________________________________________________________________________________\n",
            "batch_normalization_19 (BatchNo (None, 9, 9, 128)    512         conv2d_20[0][0]                  \n",
            "__________________________________________________________________________________________________\n",
            "activation_19 (Activation)      (None, 9, 9, 128)    0           batch_normalization_19[0][0]     \n",
            "__________________________________________________________________________________________________\n",
            "conv2d_21 (Conv2D)              (None, 9, 9, 64)     8256        activation_19[0][0]              \n",
            "__________________________________________________________________________________________________\n",
            "batch_normalization_20 (BatchNo (None, 9, 9, 64)     256         conv2d_21[0][0]                  \n",
            "__________________________________________________________________________________________________\n",
            "add_6 (Add)                     (None, 9, 9, 64)     0           batch_normalization_20[0][0]     \n",
            "                                                                 conv2d_18[0][0]                  \n",
            "__________________________________________________________________________________________________\n",
            "activation_20 (Activation)      (None, 9, 9, 64)     0           add_6[0][0]                      \n",
            "__________________________________________________________________________________________________\n",
            "conv2d_22 (Conv2D)              (None, 9, 9, 64)     36928       activation_20[0][0]              \n",
            "__________________________________________________________________________________________________\n",
            "average_pooling2d_1 (AveragePoo (None, 4, 4, 64)     0           conv2d_22[0][0]                  \n",
            "__________________________________________________________________________________________________\n",
            "flatten_1 (Flatten)             (None, 1024)         0           average_pooling2d_1[0][0]        \n",
            "__________________________________________________________________________________________________\n",
            "dense_1 (Dense)                 (None, 128)          131200      flatten_1[0][0]                  \n",
            "__________________________________________________________________________________________________\n",
            "dense_2 (Dense)                 (None, 64)           8256        dense_1[0][0]                    \n",
            "__________________________________________________________________________________________________\n",
            "dense_3 (Dense)                 (None, 10)           650         dense_2[0][0]                    \n",
            "==================================================================================================\n",
            "Total params: 1,449,738\n",
            "Trainable params: 1,444,362\n",
            "Non-trainable params: 5,376\n",
            "__________________________________________________________________________________________________\n"
          ],
          "name": "stdout"
        }
      ]
    },
    {
      "metadata": {
        "id": "DHYNHHcwUlLG",
        "colab_type": "code",
        "colab": {}
      },
      "cell_type": "code",
      "source": [
        ""
      ],
      "execution_count": 0,
      "outputs": []
    }
  ]
}