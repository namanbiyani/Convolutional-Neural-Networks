{
  "nbformat": 4,
  "nbformat_minor": 0,
  "metadata": {
    "colab": {
      "name": "MNIST_digits_using_Tenforflow.ipynb",
      "version": "0.3.2",
      "provenance": [],
      "collapsed_sections": []
    },
    "kernelspec": {
      "name": "python3",
      "display_name": "Python 3"
    }
  },
  "cells": [
    {
      "metadata": {
        "id": "P2nVi0G9rk7C",
        "colab_type": "code",
        "outputId": "58d6f02a-2b3b-48f7-bd51-6c20d0e36d94",
        "colab": {
          "base_uri": "https://localhost:8080/",
          "height": 35
        }
      },
      "cell_type": "code",
      "source": [
        "import keras\n",
        "import tensorflow as tf\n",
        "from keras.utils import np_utils"
      ],
      "execution_count": 0,
      "outputs": [
        {
          "output_type": "stream",
          "text": [
            "Using TensorFlow backend.\n"
          ],
          "name": "stderr"
        }
      ]
    },
    {
      "metadata": {
        "id": "Sa0VGXjcrqXN",
        "colab_type": "code",
        "colab": {}
      },
      "cell_type": "code",
      "source": [
        "import numpy as np"
      ],
      "execution_count": 0,
      "outputs": []
    },
    {
      "metadata": {
        "id": "tjZXRG1qrtcM",
        "colab_type": "code",
        "colab": {}
      },
      "cell_type": "code",
      "source": [
        "from keras.layers import Dense,Flatten\n",
        "from keras.datasets import mnist\n",
        "from keras import *"
      ],
      "execution_count": 0,
      "outputs": []
    },
    {
      "metadata": {
        "id": "_w90SRRgr66A",
        "colab_type": "code",
        "outputId": "edd061cc-4195-4589-ea87-2136bfb72b78",
        "colab": {
          "base_uri": "https://localhost:8080/",
          "height": 54
        }
      },
      "cell_type": "code",
      "source": [
        "\n",
        "(xtrain,ytrain),(xtest,ytest)=mnist.load_data()\n",
        "xtrain=xtrain/255\n",
        "xtest=xtest/255"
      ],
      "execution_count": 0,
      "outputs": [
        {
          "output_type": "stream",
          "text": [
            "Downloading data from https://s3.amazonaws.com/img-datasets/mnist.npz\n",
            "11493376/11490434 [==============================] - 1s 0us/step\n"
          ],
          "name": "stdout"
        }
      ]
    },
    {
      "metadata": {
        "id": "c4ChbtsfzWtp",
        "colab_type": "code",
        "outputId": "b0c2ee7e-5115-4b21-fc6f-3532fb2738f8",
        "colab": {
          "base_uri": "https://localhost:8080/",
          "height": 35
        }
      },
      "cell_type": "code",
      "source": [
        "xtrain.shape"
      ],
      "execution_count": 0,
      "outputs": [
        {
          "output_type": "execute_result",
          "data": {
            "text/plain": [
              "(60000, 28, 28, 1)"
            ]
          },
          "metadata": {
            "tags": []
          },
          "execution_count": 22
        }
      ]
    },
    {
      "metadata": {
        "id": "1QAf7ycvsDVN",
        "colab_type": "code",
        "colab": {}
      },
      "cell_type": "code",
      "source": [
        "model=Sequential()\n",
        "model.add(Flatten())\n",
        "model.add(Dense(100,activation=tf.nn.relu))\n",
        "model.add(Dense(100,activation=tf.nn.relu))\n",
        "model.add(Dense(100,activation=tf.nn.relu))\n",
        "model.add(Dense(100,activation=tf.nn.relu))\n",
        "model.add(Dense(100,activation=tf.nn.relu))\n",
        "model.add(Dense(100,activation=tf.nn.relu))\n",
        "model.add(Dense(100,activation=tf.nn.relu))\n",
        "model.add(Dense(10,activation=tf.nn.softmax))"
      ],
      "execution_count": 0,
      "outputs": []
    },
    {
      "metadata": {
        "id": "9Lwq8uh3sOOs",
        "colab_type": "code",
        "outputId": "9c375497-6c4f-40c0-a3ef-03f3c616c58d",
        "colab": {
          "base_uri": "https://localhost:8080/",
          "height": 92
        }
      },
      "cell_type": "code",
      "source": [
        "model.compile(optimizer=\"adam\",loss=\"sparse_categorical_crossentropy\",metrics=['accuracy'])"
      ],
      "execution_count": 0,
      "outputs": [
        {
          "output_type": "stream",
          "text": [
            "WARNING:tensorflow:From /usr/local/lib/python3.6/dist-packages/tensorflow/python/framework/op_def_library.py:263: colocate_with (from tensorflow.python.framework.ops) is deprecated and will be removed in a future version.\n",
            "Instructions for updating:\n",
            "Colocations handled automatically by placer.\n"
          ],
          "name": "stdout"
        }
      ]
    },
    {
      "metadata": {
        "id": "oLL_j1xPtzi4",
        "colab_type": "code",
        "outputId": "01bfcd6d-7c48-4161-b0e9-6f8939c5ad6e",
        "colab": {
          "base_uri": "https://localhost:8080/",
          "height": 274
        }
      },
      "cell_type": "code",
      "source": [
        "\n",
        "model.fit(xtrain,ytrain,epochs=5)"
      ],
      "execution_count": 0,
      "outputs": [
        {
          "output_type": "stream",
          "text": [
            "WARNING:tensorflow:From /usr/local/lib/python3.6/dist-packages/tensorflow/python/ops/math_ops.py:3066: to_int32 (from tensorflow.python.ops.math_ops) is deprecated and will be removed in a future version.\n",
            "Instructions for updating:\n",
            "Use tf.cast instead.\n",
            "Epoch 1/5\n",
            "60000/60000 [==============================] - 10s 175us/step - loss: 0.2858 - acc: 0.9122\n",
            "Epoch 2/5\n",
            "60000/60000 [==============================] - 10s 159us/step - loss: 0.1318 - acc: 0.9615\n",
            "Epoch 3/5\n",
            "60000/60000 [==============================] - 10s 159us/step - loss: 0.1017 - acc: 0.9707\n",
            "Epoch 4/5\n",
            "60000/60000 [==============================] - 9s 154us/step - loss: 0.0831 - acc: 0.9759\n",
            "Epoch 5/5\n",
            "60000/60000 [==============================] - 10s 159us/step - loss: 0.0708 - acc: 0.9791\n"
          ],
          "name": "stdout"
        },
        {
          "output_type": "execute_result",
          "data": {
            "text/plain": [
              "<keras.callbacks.History at 0x7f3074eb2358>"
            ]
          },
          "metadata": {
            "tags": []
          },
          "execution_count": 7
        }
      ]
    },
    {
      "metadata": {
        "id": "Wo2F50y3t_Db",
        "colab_type": "code",
        "outputId": "9362d2d8-94a9-4930-b810-e03b4633a3db",
        "colab": {
          "base_uri": "https://localhost:8080/",
          "height": 54
        }
      },
      "cell_type": "code",
      "source": [
        "model.evaluate(xtest,ytest)"
      ],
      "execution_count": 0,
      "outputs": [
        {
          "output_type": "stream",
          "text": [
            "10000/10000 [==============================] - 0s 47us/step\n"
          ],
          "name": "stdout"
        },
        {
          "output_type": "execute_result",
          "data": {
            "text/plain": [
              "[0.09507350220903754, 0.9747]"
            ]
          },
          "metadata": {
            "tags": []
          },
          "execution_count": 8
        }
      ]
    },
    {
      "metadata": {
        "id": "nP_PH2cbvf_e",
        "colab_type": "code",
        "outputId": "70aedd46-2274-40ad-e13d-07878ca5c7f0",
        "colab": {
          "base_uri": "https://localhost:8080/",
          "height": 72
        }
      },
      "cell_type": "code",
      "source": [
        "model.predict(xtrain[2].reshape(1,28,28))"
      ],
      "execution_count": 0,
      "outputs": [
        {
          "output_type": "execute_result",
          "data": {
            "text/plain": [
              "array([[4.75154629e-05, 1.20123359e-05, 1.82646187e-03, 1.30299873e-06,\n",
              "        9.93439376e-01, 1.27551793e-05, 1.12192014e-04, 1.22943922e-04,\n",
              "        1.57155315e-04, 4.26835753e-03]], dtype=float32)"
            ]
          },
          "metadata": {
            "tags": []
          },
          "execution_count": 9
        }
      ]
    },
    {
      "metadata": {
        "id": "GoHyne1ev5uF",
        "colab_type": "code",
        "outputId": "7be6a941-677a-45b3-bf39-675bd434e767",
        "colab": {
          "base_uri": "https://localhost:8080/",
          "height": 365
        }
      },
      "cell_type": "code",
      "source": [
        "import matplotlib.pyplot as plt\n",
        "plt.imshow(xtrain[4])"
      ],
      "execution_count": 0,
      "outputs": [
        {
          "output_type": "execute_result",
          "data": {
            "text/plain": [
              "<matplotlib.image.AxesImage at 0x7f306f1b9198>"
            ]
          },
          "metadata": {
            "tags": []
          },
          "execution_count": 10
        },
        {
          "output_type": "display_data",
          "data": {
            "image/png": "[encoded data removed]",
            "text/plain": [
              "<Figure size 576x396 with 1 Axes>"
            ]
          },
          "metadata": {
            "tags": []
          }
        }
      ]
    },
    {
      "metadata": {
        "id": "qwWQ9n-CxXEN",
        "colab_type": "code",
        "colab": {}
      },
      "cell_type": "code",
      "source": [
        "from keras.layers import *\n",
        "\n",
        "(xtrain,ytrain),(xtest,ytest)=mnist.load_data()\n",
        "xtrain=xtrain/255\n",
        "xtest=xtest/255\n",
        "ytrain=np_utils.to_categorical(ytrain,10)\n",
        "ytest=np_utils.to_categorical(ytest,10)\n",
        "xtrain=xtrain.reshape((xtrain.shape[0],xtrain.shape[1],xtrain.shape[2],1)).astype(\"float32\")\n",
        "xtest=xtest.reshape((xtest.shape[0],xtest.shape[1],xtest.shape[2],1)).astype(\"float32\")\n",
        "model=Sequential()\n",
        "model.add(Conv2D(32,(5,5),input_shape=(xtrain.shape[1],xtrain.shape[2],1),activation=\"relu\",))\n",
        "model.add(MaxPooling2D(2,2))\n",
        "model.add(Conv2D(32,(3,3),activation=\"relu\",))\n",
        "model.add(MaxPooling2D(2,2))"
      ],
      "execution_count": 0,
      "outputs": []
    },
    {
      "metadata": {
        "id": "D5_-plAu1mVa",
        "colab_type": "code",
        "colab": {}
      },
      "cell_type": "code",
      "source": [
        "model.add(Flatten())\n",
        "model.add(Dense(150,activation=tf.nn.relu))\n",
        "model.add(Dense(100,activation=tf.nn.relu))\n",
        "model.add(Dense(10,activation=tf.nn.softmax))"
      ],
      "execution_count": 0,
      "outputs": []
    },
    {
      "metadata": {
        "id": "liMq0dBo2kcj",
        "colab_type": "text"
      },
      "cell_type": "markdown",
      "source": [
        ""
      ]
    },
    {
      "metadata": {
        "id": "gV_JdR8q2eeV",
        "colab_type": "code",
        "colab": {}
      },
      "cell_type": "code",
      "source": [
        "model.compile(optimizer=\"adam\",loss=\"categorical_crossentropy\",metrics=['accuracy'])"
      ],
      "execution_count": 0,
      "outputs": []
    },
    {
      "metadata": {
        "id": "LvhIq00r2pdH",
        "colab_type": "code",
        "outputId": "775501f8-6c57-4bae-f0ea-869b04a9e6b8",
        "colab": {
          "base_uri": "https://localhost:8080/",
          "height": 219
        }
      },
      "cell_type": "code",
      "source": [
        "model.fit(xtrain,ytrain,epochs=5)"
      ],
      "execution_count": 0,
      "outputs": [
        {
          "output_type": "stream",
          "text": [
            "Epoch 1/5\n",
            "60000/60000 [==============================] - 64s 1ms/step - loss: 0.1355 - acc: 0.9594\n",
            "Epoch 2/5\n",
            "60000/60000 [==============================] - 64s 1ms/step - loss: 0.0458 - acc: 0.9855\n",
            "Epoch 3/5\n",
            "60000/60000 [==============================] - 65s 1ms/step - loss: 0.0334 - acc: 0.9895\n",
            "Epoch 4/5\n",
            "60000/60000 [==============================] - 65s 1ms/step - loss: 0.0255 - acc: 0.9922\n",
            "Epoch 5/5\n",
            "60000/60000 [==============================] - 67s 1ms/step - loss: 0.0201 - acc: 0.9937\n"
          ],
          "name": "stdout"
        },
        {
          "output_type": "execute_result",
          "data": {
            "text/plain": [
              "<keras.callbacks.History at 0x7f306c144e80>"
            ]
          },
          "metadata": {
            "tags": []
          },
          "execution_count": 26
        }
      ]
    },
    {
      "metadata": {
        "id": "FhIcVw7M2qDx",
        "colab_type": "code",
        "outputId": "6458e3a5-da1c-43eb-bfe2-f997088649f7",
        "colab": {
          "base_uri": "https://localhost:8080/",
          "height": 35
        }
      },
      "cell_type": "code",
      "source": [
        "ytest[0]"
      ],
      "execution_count": 0,
      "outputs": [
        {
          "output_type": "execute_result",
          "data": {
            "text/plain": [
              "array([0., 0., 0., 0., 0., 0., 0., 1., 0., 0.], dtype=float32)"
            ]
          },
          "metadata": {
            "tags": []
          },
          "execution_count": 28
        }
      ]
    },
    {
      "metadata": {
        "id": "yXvQ5BRe4af5",
        "colab_type": "code",
        "outputId": "c03f4e75-0a84-4205-8735-35cbb56e7724",
        "colab": {
          "base_uri": "https://localhost:8080/",
          "height": 54
        }
      },
      "cell_type": "code",
      "source": [
        "model.evaluate(xtest,ytest)"
      ],
      "execution_count": 0,
      "outputs": [
        {
          "output_type": "stream",
          "text": [
            "10000/10000 [==============================] - 4s 364us/step\n"
          ],
          "name": "stdout"
        },
        {
          "output_type": "execute_result",
          "data": {
            "text/plain": [
              "[0.03612814615858588, 0.9879]"
            ]
          },
          "metadata": {
            "tags": []
          },
          "execution_count": 29
        }
      ]
    },
    {
      "metadata": {
        "id": "hF7PwIxi8Jsr",
        "colab_type": "code",
        "colab": {}
      },
      "cell_type": "code",
      "source": [
        ""
      ],
      "execution_count": 0,
      "outputs": []
    }
  ]
}